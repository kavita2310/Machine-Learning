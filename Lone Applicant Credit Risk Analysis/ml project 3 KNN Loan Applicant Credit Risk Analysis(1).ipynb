{
 "cells": [
  {
   "cell_type": "code",
   "execution_count": 1,
   "id": "06083ab9-7cc1-4757-8fd3-af1b8be96c5e",
   "metadata": {},
   "outputs": [],
   "source": [
    "import pandas as pd\n",
    "import matplotlib.pyplot as plt\n",
    "import seaborn as sns\n",
    "import numpy as np"
   ]
  },
  {
   "cell_type": "code",
   "execution_count": 3,
   "id": "ea490980-1ba4-4427-96e1-233f3fb80706",
   "metadata": {},
   "outputs": [],
   "source": [
    "data=pd.read_excel(r'C:\\Users\\HP\\Downloads\\ML Project - KNN Loan Applicant Credit Risk Analysis U 16955473070.xlsx')"
   ]
  },
  {
   "cell_type": "code",
   "execution_count": 4,
   "id": "4c699d73-1754-4981-95c2-06396374d3ce",
   "metadata": {},
   "outputs": [
    {
     "data": {
      "text/html": [
       "<div>\n",
       "<style scoped>\n",
       "    .dataframe tbody tr th:only-of-type {\n",
       "        vertical-align: middle;\n",
       "    }\n",
       "\n",
       "    .dataframe tbody tr th {\n",
       "        vertical-align: top;\n",
       "    }\n",
       "\n",
       "    .dataframe thead th {\n",
       "        text-align: right;\n",
       "    }\n",
       "</style>\n",
       "<table border=\"1\" class=\"dataframe\">\n",
       "  <thead>\n",
       "    <tr style=\"text-align: right;\">\n",
       "      <th></th>\n",
       "      <th>Age</th>\n",
       "      <th>Total Work Experience</th>\n",
       "      <th>Number of years in city</th>\n",
       "      <th>Cost to Request Ratio</th>\n",
       "      <th>Cibil score</th>\n",
       "      <th>Overdrafts past12months</th>\n",
       "      <th>Total bounces past12months</th>\n",
       "    </tr>\n",
       "  </thead>\n",
       "  <tbody>\n",
       "    <tr>\n",
       "      <th>0</th>\n",
       "      <td>40.50</td>\n",
       "      <td>2</td>\n",
       "      <td>6</td>\n",
       "      <td>0.842666</td>\n",
       "      <td>594</td>\n",
       "      <td>0</td>\n",
       "      <td>0</td>\n",
       "    </tr>\n",
       "    <tr>\n",
       "      <th>1</th>\n",
       "      <td>41.25</td>\n",
       "      <td>5</td>\n",
       "      <td>2</td>\n",
       "      <td>0.791667</td>\n",
       "      <td>754</td>\n",
       "      <td>0</td>\n",
       "      <td>0</td>\n",
       "    </tr>\n",
       "    <tr>\n",
       "      <th>2</th>\n",
       "      <td>39.50</td>\n",
       "      <td>5</td>\n",
       "      <td>2</td>\n",
       "      <td>0.727273</td>\n",
       "      <td>779</td>\n",
       "      <td>0</td>\n",
       "      <td>0</td>\n",
       "    </tr>\n",
       "    <tr>\n",
       "      <th>3</th>\n",
       "      <td>35.00</td>\n",
       "      <td>1</td>\n",
       "      <td>4</td>\n",
       "      <td>0.820232</td>\n",
       "      <td>818</td>\n",
       "      <td>0</td>\n",
       "      <td>0</td>\n",
       "    </tr>\n",
       "    <tr>\n",
       "      <th>4</th>\n",
       "      <td>34.00</td>\n",
       "      <td>3</td>\n",
       "      <td>3</td>\n",
       "      <td>0.455581</td>\n",
       "      <td>853</td>\n",
       "      <td>0</td>\n",
       "      <td>1</td>\n",
       "    </tr>\n",
       "    <tr>\n",
       "      <th>...</th>\n",
       "      <td>...</td>\n",
       "      <td>...</td>\n",
       "      <td>...</td>\n",
       "      <td>...</td>\n",
       "      <td>...</td>\n",
       "      <td>...</td>\n",
       "      <td>...</td>\n",
       "    </tr>\n",
       "    <tr>\n",
       "      <th>8990</th>\n",
       "      <td>30.80</td>\n",
       "      <td>3</td>\n",
       "      <td>3</td>\n",
       "      <td>0.596748</td>\n",
       "      <td>763</td>\n",
       "      <td>0</td>\n",
       "      <td>0</td>\n",
       "    </tr>\n",
       "    <tr>\n",
       "      <th>8991</th>\n",
       "      <td>31.83</td>\n",
       "      <td>3</td>\n",
       "      <td>6</td>\n",
       "      <td>0.986793</td>\n",
       "      <td>532</td>\n",
       "      <td>0</td>\n",
       "      <td>0</td>\n",
       "    </tr>\n",
       "    <tr>\n",
       "      <th>8992</th>\n",
       "      <td>32.67</td>\n",
       "      <td>2</td>\n",
       "      <td>5</td>\n",
       "      <td>0.628330</td>\n",
       "      <td>590</td>\n",
       "      <td>0</td>\n",
       "      <td>0</td>\n",
       "    </tr>\n",
       "    <tr>\n",
       "      <th>8993</th>\n",
       "      <td>37.00</td>\n",
       "      <td>3</td>\n",
       "      <td>3</td>\n",
       "      <td>0.797193</td>\n",
       "      <td>812</td>\n",
       "      <td>0</td>\n",
       "      <td>0</td>\n",
       "    </tr>\n",
       "    <tr>\n",
       "      <th>8994</th>\n",
       "      <td>32.08</td>\n",
       "      <td>1</td>\n",
       "      <td>6</td>\n",
       "      <td>0.287659</td>\n",
       "      <td>817</td>\n",
       "      <td>0</td>\n",
       "      <td>0</td>\n",
       "    </tr>\n",
       "  </tbody>\n",
       "</table>\n",
       "<p>8995 rows × 7 columns</p>\n",
       "</div>"
      ],
      "text/plain": [
       "        Age  Total Work Experience  Number of years in city  \\\n",
       "0     40.50                      2                        6   \n",
       "1     41.25                      5                        2   \n",
       "2     39.50                      5                        2   \n",
       "3     35.00                      1                        4   \n",
       "4     34.00                      3                        3   \n",
       "...     ...                    ...                      ...   \n",
       "8990  30.80                      3                        3   \n",
       "8991  31.83                      3                        6   \n",
       "8992  32.67                      2                        5   \n",
       "8993  37.00                      3                        3   \n",
       "8994  32.08                      1                        6   \n",
       "\n",
       "      Cost to Request Ratio  Cibil score  Overdrafts past12months  \\\n",
       "0                  0.842666          594                        0   \n",
       "1                  0.791667          754                        0   \n",
       "2                  0.727273          779                        0   \n",
       "3                  0.820232          818                        0   \n",
       "4                  0.455581          853                        0   \n",
       "...                     ...          ...                      ...   \n",
       "8990               0.596748          763                        0   \n",
       "8991               0.986793          532                        0   \n",
       "8992               0.628330          590                        0   \n",
       "8993               0.797193          812                        0   \n",
       "8994               0.287659          817                        0   \n",
       "\n",
       "      Total bounces past12months  \n",
       "0                              0  \n",
       "1                              0  \n",
       "2                              0  \n",
       "3                              0  \n",
       "4                              1  \n",
       "...                          ...  \n",
       "8990                           0  \n",
       "8991                           0  \n",
       "8992                           0  \n",
       "8993                           0  \n",
       "8994                           0  \n",
       "\n",
       "[8995 rows x 7 columns]"
      ]
     },
     "execution_count": 4,
     "metadata": {},
     "output_type": "execute_result"
    }
   ],
   "source": [
    "data"
   ]
  },
  {
   "cell_type": "code",
   "execution_count": 5,
   "id": "aa2acbed-c24d-4fd2-90f9-4a206a4ceb83",
   "metadata": {},
   "outputs": [
    {
     "name": "stdout",
     "output_type": "stream",
     "text": [
      "<class 'pandas.core.frame.DataFrame'>\n",
      "RangeIndex: 8995 entries, 0 to 8994\n",
      "Data columns (total 7 columns):\n",
      " #   Column                      Non-Null Count  Dtype  \n",
      "---  ------                      --------------  -----  \n",
      " 0   Age                         8995 non-null   float64\n",
      " 1   Total Work Experience       8995 non-null   int64  \n",
      " 2   Number of years in city     8995 non-null   int64  \n",
      " 3   Cost to Request Ratio       8995 non-null   float64\n",
      " 4   Cibil score                 8995 non-null   int64  \n",
      " 5   Overdrafts past12months     8995 non-null   int64  \n",
      " 6   Total bounces past12months  8995 non-null   int64  \n",
      "dtypes: float64(2), int64(5)\n",
      "memory usage: 492.0 KB\n"
     ]
    }
   ],
   "source": [
    "data.info()"
   ]
  },
  {
   "cell_type": "code",
   "execution_count": 7,
   "id": "eedcd509-f3fe-47ca-ae5e-ef1fa210c40e",
   "metadata": {},
   "outputs": [
    {
     "data": {
      "text/plain": [
       "Age                           0\n",
       "Total Work Experience         0\n",
       "Number of years in city       0\n",
       "Cost to Request Ratio         0\n",
       "Cibil score                   0\n",
       "Overdrafts past12months       0\n",
       "Total bounces past12months    0\n",
       "dtype: int64"
      ]
     },
     "execution_count": 7,
     "metadata": {},
     "output_type": "execute_result"
    }
   ],
   "source": [
    "data.isnull().sum()"
   ]
  },
  {
   "cell_type": "code",
   "execution_count": 8,
   "id": "918db102-a57e-4af6-a3ba-307840886ff4",
   "metadata": {},
   "outputs": [
    {
     "data": {
      "text/html": [
       "<div>\n",
       "<style scoped>\n",
       "    .dataframe tbody tr th:only-of-type {\n",
       "        vertical-align: middle;\n",
       "    }\n",
       "\n",
       "    .dataframe tbody tr th {\n",
       "        vertical-align: top;\n",
       "    }\n",
       "\n",
       "    .dataframe thead th {\n",
       "        text-align: right;\n",
       "    }\n",
       "</style>\n",
       "<table border=\"1\" class=\"dataframe\">\n",
       "  <thead>\n",
       "    <tr style=\"text-align: right;\">\n",
       "      <th></th>\n",
       "      <th>Age</th>\n",
       "      <th>Total Work Experience</th>\n",
       "      <th>Number of years in city</th>\n",
       "      <th>Cost to Request Ratio</th>\n",
       "      <th>Cibil score</th>\n",
       "      <th>Overdrafts past12months</th>\n",
       "      <th>Total bounces past12months</th>\n",
       "    </tr>\n",
       "  </thead>\n",
       "  <tbody>\n",
       "    <tr>\n",
       "      <th>count</th>\n",
       "      <td>8995.000000</td>\n",
       "      <td>8995.000000</td>\n",
       "      <td>8995.000000</td>\n",
       "      <td>8995.000000</td>\n",
       "      <td>8995.000000</td>\n",
       "      <td>8995.000000</td>\n",
       "      <td>8995.000000</td>\n",
       "    </tr>\n",
       "    <tr>\n",
       "      <th>mean</th>\n",
       "      <td>38.808202</td>\n",
       "      <td>2.131073</td>\n",
       "      <td>4.288160</td>\n",
       "      <td>0.831183</td>\n",
       "      <td>752.626570</td>\n",
       "      <td>0.322068</td>\n",
       "      <td>1.162757</td>\n",
       "    </tr>\n",
       "    <tr>\n",
       "      <th>std</th>\n",
       "      <td>10.203371</td>\n",
       "      <td>0.892141</td>\n",
       "      <td>1.269416</td>\n",
       "      <td>0.490216</td>\n",
       "      <td>67.645792</td>\n",
       "      <td>0.914998</td>\n",
       "      <td>2.352798</td>\n",
       "    </tr>\n",
       "    <tr>\n",
       "      <th>min</th>\n",
       "      <td>18.100000</td>\n",
       "      <td>1.000000</td>\n",
       "      <td>1.000000</td>\n",
       "      <td>0.008466</td>\n",
       "      <td>351.000000</td>\n",
       "      <td>0.000000</td>\n",
       "      <td>0.000000</td>\n",
       "    </tr>\n",
       "    <tr>\n",
       "      <th>25%</th>\n",
       "      <td>30.830000</td>\n",
       "      <td>1.000000</td>\n",
       "      <td>3.000000</td>\n",
       "      <td>0.662147</td>\n",
       "      <td>730.000000</td>\n",
       "      <td>0.000000</td>\n",
       "      <td>0.000000</td>\n",
       "    </tr>\n",
       "    <tr>\n",
       "      <th>50%</th>\n",
       "      <td>37.200000</td>\n",
       "      <td>2.000000</td>\n",
       "      <td>4.000000</td>\n",
       "      <td>0.800000</td>\n",
       "      <td>768.000000</td>\n",
       "      <td>0.000000</td>\n",
       "      <td>0.000000</td>\n",
       "    </tr>\n",
       "    <tr>\n",
       "      <th>75%</th>\n",
       "      <td>45.400000</td>\n",
       "      <td>3.000000</td>\n",
       "      <td>5.000000</td>\n",
       "      <td>0.930908</td>\n",
       "      <td>797.000000</td>\n",
       "      <td>0.000000</td>\n",
       "      <td>1.000000</td>\n",
       "    </tr>\n",
       "    <tr>\n",
       "      <th>max</th>\n",
       "      <td>83.800000</td>\n",
       "      <td>5.000000</td>\n",
       "      <td>6.000000</td>\n",
       "      <td>12.006623</td>\n",
       "      <td>882.000000</td>\n",
       "      <td>12.000000</td>\n",
       "      <td>12.000000</td>\n",
       "    </tr>\n",
       "  </tbody>\n",
       "</table>\n",
       "</div>"
      ],
      "text/plain": [
       "               Age  Total Work Experience  Number of years in city  \\\n",
       "count  8995.000000            8995.000000              8995.000000   \n",
       "mean     38.808202               2.131073                 4.288160   \n",
       "std      10.203371               0.892141                 1.269416   \n",
       "min      18.100000               1.000000                 1.000000   \n",
       "25%      30.830000               1.000000                 3.000000   \n",
       "50%      37.200000               2.000000                 4.000000   \n",
       "75%      45.400000               3.000000                 5.000000   \n",
       "max      83.800000               5.000000                 6.000000   \n",
       "\n",
       "       Cost to Request Ratio  Cibil score  Overdrafts past12months  \\\n",
       "count            8995.000000  8995.000000              8995.000000   \n",
       "mean                0.831183   752.626570                 0.322068   \n",
       "std                 0.490216    67.645792                 0.914998   \n",
       "min                 0.008466   351.000000                 0.000000   \n",
       "25%                 0.662147   730.000000                 0.000000   \n",
       "50%                 0.800000   768.000000                 0.000000   \n",
       "75%                 0.930908   797.000000                 0.000000   \n",
       "max                12.006623   882.000000                12.000000   \n",
       "\n",
       "       Total bounces past12months  \n",
       "count                 8995.000000  \n",
       "mean                     1.162757  \n",
       "std                      2.352798  \n",
       "min                      0.000000  \n",
       "25%                      0.000000  \n",
       "50%                      0.000000  \n",
       "75%                      1.000000  \n",
       "max                     12.000000  "
      ]
     },
     "execution_count": 8,
     "metadata": {},
     "output_type": "execute_result"
    }
   ],
   "source": [
    "data.describe()"
   ]
  },
  {
   "cell_type": "code",
   "execution_count": 17,
   "id": "e065c2ee-20f3-4f69-a672-f6b0a015f766",
   "metadata": {},
   "outputs": [
    {
     "data": {
      "image/png": "[encoded data removed]",
      "text/plain": [
       "<Figure size 640x480 with 1 Axes>"
      ]
     },
     "metadata": {},
     "output_type": "display_data"
    }
   ],
   "source": [
    "plt.scatter(data['Age'],data['Total Work Experience'],marker='*',edgecolors='red');"
   ]
  },
  {
   "cell_type": "code",
   "execution_count": 15,
   "id": "99198a1a-5545-4344-be5e-14d6a67f9654",
   "metadata": {},
   "outputs": [],
   "source": [
    "import warnings\n",
    "warnings.filterwarnings('ignore')"
   ]
  },
  {
   "cell_type": "code",
   "execution_count": 19,
   "id": "20ee1a66-bda5-4725-b9e1-f27b58b8d415",
   "metadata": {},
   "outputs": [
    {
     "data": {
      "image/png": "[encoded data removed]",
      "text/plain": [
       "<Figure size 640x480 with 1 Axes>"
      ]
     },
     "metadata": {},
     "output_type": "display_data"
    }
   ],
   "source": [
    "plt.boxplot(data['Age']);"
   ]
  },
  {
   "cell_type": "code",
   "execution_count": 22,
   "id": "9b2fd1d7-a01d-45b1-8627-90ffa316953d",
   "metadata": {},
   "outputs": [
    {
     "data": {
      "image/png": "[encoded data removed]",
      "text/plain": [
       "<Figure size 640x480 with 1 Axes>"
      ]
     },
     "metadata": {},
     "output_type": "display_data"
    }
   ],
   "source": [
    "plt.boxplot(data['Cibil score']);"
   ]
  },
  {
   "cell_type": "code",
   "execution_count": 24,
   "id": "38b80989-519b-4c64-8a9a-3fe050e631a0",
   "metadata": {},
   "outputs": [],
   "source": [
    "x=data.drop('Total bounces past12months',axis=1)\n",
    "y=data['Total bounces past12months']"
   ]
  },
  {
   "cell_type": "code",
   "execution_count": 29,
   "id": "a0e91d6a-31ff-488a-86d2-6e1075d4418e",
   "metadata": {},
   "outputs": [],
   "source": [
    "from sklearn.model_selection import train_test_split"
   ]
  },
  {
   "cell_type": "code",
   "execution_count": 30,
   "id": "9b6db6ce-a444-4ccb-9ab5-90959b983bdd",
   "metadata": {},
   "outputs": [],
   "source": [
    "x_train,x_test,y_train,y_test=train_test_split(x,y,train_size=0.8,random_state=45)"
   ]
  },
  {
   "cell_type": "code",
   "execution_count": 34,
   "id": "608f202d-17eb-4319-b128-46a2f622ca9c",
   "metadata": {},
   "outputs": [],
   "source": [
    "from sklearn.neighbors import KNeighborsClassifier"
   ]
  },
  {
   "cell_type": "code",
   "execution_count": 60,
   "id": "94d7fda9-75a8-4ed5-8a4c-67ae37fa6173",
   "metadata": {},
   "outputs": [],
   "source": [
    "model=KNeighborsClassifier()"
   ]
  },
  {
   "cell_type": "code",
   "execution_count": 61,
   "id": "a05c5518-0e80-4541-906f-fd4faa755057",
   "metadata": {},
   "outputs": [
    {
     "data": {
      "text/html": [
       "<style>#sk-container-id-2 {color: black;background-color: white;}#sk-container-id-2 pre{padding: 0;}#sk-container-id-2 div.sk-toggleable {background-color: white;}#sk-container-id-2 label.sk-toggleable__label {cursor: pointer;display: block;width: 100%;margin-bottom: 0;padding: 0.3em;box-sizing: border-box;text-align: center;}#sk-container-id-2 label.sk-toggleable__label-arrow:before {content: \"▸\";float: left;margin-right: 0.25em;color: #696969;}#sk-container-id-2 label.sk-toggleable__label-arrow:hover:before {color: black;}#sk-container-id-2 div.sk-estimator:hover label.sk-toggleable__label-arrow:before {color: black;}#sk-container-id-2 div.sk-toggleable__content {max-height: 0;max-width: 0;overflow: hidden;text-align: left;background-color: #f0f8ff;}#sk-container-id-2 div.sk-toggleable__content pre {margin: 0.2em;color: black;border-radius: 0.25em;background-color: #f0f8ff;}#sk-container-id-2 input.sk-toggleable__control:checked~div.sk-toggleable__content {max-height: 200px;max-width: 100%;overflow: auto;}#sk-container-id-2 input.sk-toggleable__control:checked~label.sk-toggleable__label-arrow:before {content: \"▾\";}#sk-container-id-2 div.sk-estimator input.sk-toggleable__control:checked~label.sk-toggleable__label {background-color: #d4ebff;}#sk-container-id-2 div.sk-label input.sk-toggleable__control:checked~label.sk-toggleable__label {background-color: #d4ebff;}#sk-container-id-2 input.sk-hidden--visually {border: 0;clip: rect(1px 1px 1px 1px);clip: rect(1px, 1px, 1px, 1px);height: 1px;margin: -1px;overflow: hidden;padding: 0;position: absolute;width: 1px;}#sk-container-id-2 div.sk-estimator {font-family: monospace;background-color: #f0f8ff;border: 1px dotted black;border-radius: 0.25em;box-sizing: border-box;margin-bottom: 0.5em;}#sk-container-id-2 div.sk-estimator:hover {background-color: #d4ebff;}#sk-container-id-2 div.sk-parallel-item::after {content: \"\";width: 100%;border-bottom: 1px solid gray;flex-grow: 1;}#sk-container-id-2 div.sk-label:hover label.sk-toggleable__label {background-color: #d4ebff;}#sk-container-id-2 div.sk-serial::before {content: \"\";position: absolute;border-left: 1px solid gray;box-sizing: border-box;top: 0;bottom: 0;left: 50%;z-index: 0;}#sk-container-id-2 div.sk-serial {display: flex;flex-direction: column;align-items: center;background-color: white;padding-right: 0.2em;padding-left: 0.2em;position: relative;}#sk-container-id-2 div.sk-item {position: relative;z-index: 1;}#sk-container-id-2 div.sk-parallel {display: flex;align-items: stretch;justify-content: center;background-color: white;position: relative;}#sk-container-id-2 div.sk-item::before, #sk-container-id-2 div.sk-parallel-item::before {content: \"\";position: absolute;border-left: 1px solid gray;box-sizing: border-box;top: 0;bottom: 0;left: 50%;z-index: -1;}#sk-container-id-2 div.sk-parallel-item {display: flex;flex-direction: column;z-index: 1;position: relative;background-color: white;}#sk-container-id-2 div.sk-parallel-item:first-child::after {align-self: flex-end;width: 50%;}#sk-container-id-2 div.sk-parallel-item:last-child::after {align-self: flex-start;width: 50%;}#sk-container-id-2 div.sk-parallel-item:only-child::after {width: 0;}#sk-container-id-2 div.sk-dashed-wrapped {border: 1px dashed gray;margin: 0 0.4em 0.5em 0.4em;box-sizing: border-box;padding-bottom: 0.4em;background-color: white;}#sk-container-id-2 div.sk-label label {font-family: monospace;font-weight: bold;display: inline-block;line-height: 1.2em;}#sk-container-id-2 div.sk-label-container {text-align: center;}#sk-container-id-2 div.sk-container {/* jupyter's `normalize.less` sets `[hidden] { display: none; }` but bootstrap.min.css set `[hidden] { display: none !important; }` so we also need the `!important` here to be able to override the default hidden behavior on the sphinx rendered scikit-learn.org. See: https://github.com/scikit-learn/scikit-learn/issues/21755 */display: inline-block !important;position: relative;}#sk-container-id-2 div.sk-text-repr-fallback {display: none;}</style><div id=\"sk-container-id-2\" class=\"sk-top-container\"><div class=\"sk-text-repr-fallback\"><pre>KNeighborsClassifier()</pre><b>In a Jupyter environment, please rerun this cell to show the HTML representation or trust the notebook. <br />On GitHub, the HTML representation is unable to render, please try loading this page with nbviewer.org.</b></div><div class=\"sk-container\" hidden><div class=\"sk-item\"><div class=\"sk-estimator sk-toggleable\"><input class=\"sk-toggleable__control sk-hidden--visually\" id=\"sk-estimator-id-2\" type=\"checkbox\" checked><label for=\"sk-estimator-id-2\" class=\"sk-toggleable__label sk-toggleable__label-arrow\">KNeighborsClassifier</label><div class=\"sk-toggleable__content\"><pre>KNeighborsClassifier()</pre></div></div></div></div></div>"
      ],
      "text/plain": [
       "KNeighborsClassifier()"
      ]
     },
     "execution_count": 61,
     "metadata": {},
     "output_type": "execute_result"
    }
   ],
   "source": [
    "model.fit(x_train,y_train)"
   ]
  },
  {
   "cell_type": "code",
   "execution_count": 62,
   "id": "175099a1-6217-4166-a6a2-42ed90e88f51",
   "metadata": {},
   "outputs": [
    {
     "data": {
      "text/plain": [
       "0.674680377987771"
      ]
     },
     "execution_count": 62,
     "metadata": {},
     "output_type": "execute_result"
    }
   ],
   "source": [
    "model.score(x_train,y_train)"
   ]
  },
  {
   "cell_type": "code",
   "execution_count": 63,
   "id": "32be962b-29d1-4aef-978b-ed0f90ff1feb",
   "metadata": {},
   "outputs": [
    {
     "data": {
      "text/plain": [
       "0.6436909394107838"
      ]
     },
     "execution_count": 63,
     "metadata": {},
     "output_type": "execute_result"
    }
   ],
   "source": [
    "model.score(x_test,y_test)"
   ]
  },
  {
   "cell_type": "code",
   "execution_count": 64,
   "id": "cd057ac9-f31a-4079-ac4a-375c9d48cb2e",
   "metadata": {},
   "outputs": [],
   "source": [
    "from sklearn.metrics import accuracy_score"
   ]
  },
  {
   "cell_type": "code",
   "execution_count": 65,
   "id": "43255474-64e4-4498-b166-b6e41ee88914",
   "metadata": {},
   "outputs": [
    {
     "data": {
      "text/plain": [
       "0.6436909394107838"
      ]
     },
     "execution_count": 65,
     "metadata": {},
     "output_type": "execute_result"
    }
   ],
   "source": [
    "accuracy_score(y_test,model.predict(x_test))"
   ]
  },
  {
   "cell_type": "code",
   "execution_count": 71,
   "id": "f1e07ba8-d4d2-4741-a427-65452ab3edfe",
   "metadata": {},
   "outputs": [],
   "source": [
    "train=[]\n",
    "test=[]\n",
    "for i in range(1,14):\n",
    "    model1=KNeighborsClassifier(i)\n",
    "    model1.fit(x_train,y_train)\n",
    "    train.append(model1.score(x_train,y_train))\n",
    "    test.append(model1.score(x_test,y_test))"
   ]
  },
  {
   "cell_type": "code",
   "execution_count": 72,
   "id": "04f20f90-8303-4d45-9102-6c2ddc24575d",
   "metadata": {},
   "outputs": [
    {
     "data": {
      "text/plain": [
       "[1.0,\n",
       " 0.7402723735408561,\n",
       " 0.7058087826570317,\n",
       " 0.6866314619232907,\n",
       " 0.674680377987771,\n",
       " 0.6687048360200111,\n",
       " 0.6645358532518065,\n",
       " 0.6625903279599777,\n",
       " 0.6599499722067815,\n",
       " 0.6596720400222346,\n",
       " 0.6581434130072262,\n",
       " 0.6577265147304058,\n",
       " 0.6563368538076709]"
      ]
     },
     "execution_count": 72,
     "metadata": {},
     "output_type": "execute_result"
    }
   ],
   "source": [
    "train"
   ]
  },
  {
   "cell_type": "code",
   "execution_count": 73,
   "id": "8f8d292c-284d-45e1-96a8-2abc13f47c4b",
   "metadata": {},
   "outputs": [
    {
     "data": {
      "text/plain": [
       "[0.5403001667593107,\n",
       " 0.6247915508615898,\n",
       " 0.6197887715397443,\n",
       " 0.6386881600889383,\n",
       " 0.6436909394107838,\n",
       " 0.6475819899944414,\n",
       " 0.6470261256253474,\n",
       " 0.650917176209005,\n",
       " 0.6498054474708171,\n",
       " 0.6525847693162868,\n",
       " 0.6542523624235687,\n",
       " 0.6564758198999444,\n",
       " 0.6570316842690384]"
      ]
     },
     "execution_count": 73,
     "metadata": {},
     "output_type": "execute_result"
    }
   ],
   "source": [
    "test"
   ]
  },
  {
   "cell_type": "code",
   "execution_count": 74,
   "id": "40f21758-0520-4985-854d-7f1aa661656e",
   "metadata": {},
   "outputs": [
    {
     "data": {
      "image/png": "[encoded data removed]",
      "text/plain": [
       "<Figure size 640x480 with 1 Axes>"
      ]
     },
     "metadata": {},
     "output_type": "display_data"
    }
   ],
   "source": [
    "plt.plot(range(1,14),train)\n",
    "plt.plot(range(1,14),test);"
   ]
  },
  {
   "cell_type": "code",
   "execution_count": null,
   "id": "d24396e8-1a52-4075-9017-b3a6543e3d6c",
   "metadata": {},
   "outputs": [],
   "source": []
  }
 ],
 "metadata": {
  "kernelspec": {
   "display_name": "Python 3 (ipykernel)",
   "language": "python",
   "name": "python3"
  },
  "language_info": {
   "codemirror_mode": {
    "name": "ipython",
    "version": 3
   },
   "file_extension": ".py",
   "mimetype": "text/x-python",
   "name": "python",
   "nbconvert_exporter": "python",
   "pygments_lexer": "ipython3",
   "version": "3.11.7"
  }
 },
 "nbformat": 4,
 "nbformat_minor": 5
}
