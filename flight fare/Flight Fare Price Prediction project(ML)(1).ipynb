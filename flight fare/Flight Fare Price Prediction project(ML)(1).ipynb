{
 "cells": [
  {
   "cell_type": "code",
   "execution_count": 1,
   "id": "e8effcd4-3482-48fc-bbb3-87eef2c6755c",
   "metadata": {},
   "outputs": [],
   "source": [
    "import pandas as pd\n",
    "import matplotlib.pyplot as plt\n",
    "import seaborn as sns\n",
    "import numpy as np"
   ]
  },
  {
   "cell_type": "code",
   "execution_count": 2,
   "id": "7fbf4e2c-08e1-4d3b-9e00-d2455b6cf7e1",
   "metadata": {},
   "outputs": [],
   "source": [
    "data=pd.read_excel(r'C:\\Users\\HP\\Downloads\\ML Live Flight Fare Resourses16963295320.xlsx')"
   ]
  },
  {
   "cell_type": "code",
   "execution_count": 3,
   "id": "a52e7773-fd78-4417-9f97-255f6ef9e790",
   "metadata": {},
   "outputs": [
    {
     "data": {
      "text/html": [
       "<div>\n",
       "<style scoped>\n",
       "    .dataframe tbody tr th:only-of-type {\n",
       "        vertical-align: middle;\n",
       "    }\n",
       "\n",
       "    .dataframe tbody tr th {\n",
       "        vertical-align: top;\n",
       "    }\n",
       "\n",
       "    .dataframe thead th {\n",
       "        text-align: right;\n",
       "    }\n",
       "</style>\n",
       "<table border=\"1\" class=\"dataframe\">\n",
       "  <thead>\n",
       "    <tr style=\"text-align: right;\">\n",
       "      <th></th>\n",
       "      <th>Airline</th>\n",
       "      <th>Date_of_Journey</th>\n",
       "      <th>Source</th>\n",
       "      <th>Destination</th>\n",
       "      <th>Route</th>\n",
       "      <th>Dep_Time</th>\n",
       "      <th>Arrival_Time</th>\n",
       "      <th>Duration</th>\n",
       "      <th>Total_Stops</th>\n",
       "      <th>Additional_Info</th>\n",
       "      <th>Price</th>\n",
       "    </tr>\n",
       "  </thead>\n",
       "  <tbody>\n",
       "    <tr>\n",
       "      <th>0</th>\n",
       "      <td>IndiGo</td>\n",
       "      <td>24/03/2019</td>\n",
       "      <td>Banglore</td>\n",
       "      <td>New Delhi</td>\n",
       "      <td>BLR → DEL</td>\n",
       "      <td>22:20</td>\n",
       "      <td>01:10 22 Mar</td>\n",
       "      <td>2h 50m</td>\n",
       "      <td>non-stop</td>\n",
       "      <td>No info</td>\n",
       "      <td>3897</td>\n",
       "    </tr>\n",
       "    <tr>\n",
       "      <th>1</th>\n",
       "      <td>Air India</td>\n",
       "      <td>1/05/2019</td>\n",
       "      <td>Kolkata</td>\n",
       "      <td>Banglore</td>\n",
       "      <td>CCU → IXR → BBI → BLR</td>\n",
       "      <td>05:50</td>\n",
       "      <td>13:15</td>\n",
       "      <td>7h 25m</td>\n",
       "      <td>2 stops</td>\n",
       "      <td>No info</td>\n",
       "      <td>7662</td>\n",
       "    </tr>\n",
       "    <tr>\n",
       "      <th>2</th>\n",
       "      <td>Jet Airways</td>\n",
       "      <td>9/06/2019</td>\n",
       "      <td>Delhi</td>\n",
       "      <td>Cochin</td>\n",
       "      <td>DEL → LKO → BOM → COK</td>\n",
       "      <td>09:25</td>\n",
       "      <td>04:25 10 Jun</td>\n",
       "      <td>19h</td>\n",
       "      <td>2 stops</td>\n",
       "      <td>No info</td>\n",
       "      <td>13882</td>\n",
       "    </tr>\n",
       "    <tr>\n",
       "      <th>3</th>\n",
       "      <td>IndiGo</td>\n",
       "      <td>12/05/2019</td>\n",
       "      <td>Kolkata</td>\n",
       "      <td>Banglore</td>\n",
       "      <td>CCU → NAG → BLR</td>\n",
       "      <td>18:05</td>\n",
       "      <td>23:30</td>\n",
       "      <td>5h 25m</td>\n",
       "      <td>1 stop</td>\n",
       "      <td>No info</td>\n",
       "      <td>6218</td>\n",
       "    </tr>\n",
       "    <tr>\n",
       "      <th>4</th>\n",
       "      <td>IndiGo</td>\n",
       "      <td>01/03/2019</td>\n",
       "      <td>Banglore</td>\n",
       "      <td>New Delhi</td>\n",
       "      <td>BLR → NAG → DEL</td>\n",
       "      <td>16:50</td>\n",
       "      <td>21:35</td>\n",
       "      <td>4h 45m</td>\n",
       "      <td>1 stop</td>\n",
       "      <td>No info</td>\n",
       "      <td>13302</td>\n",
       "    </tr>\n",
       "  </tbody>\n",
       "</table>\n",
       "</div>"
      ],
      "text/plain": [
       "       Airline Date_of_Journey    Source Destination                  Route  \\\n",
       "0       IndiGo      24/03/2019  Banglore   New Delhi              BLR → DEL   \n",
       "1    Air India       1/05/2019   Kolkata    Banglore  CCU → IXR → BBI → BLR   \n",
       "2  Jet Airways       9/06/2019     Delhi      Cochin  DEL → LKO → BOM → COK   \n",
       "3       IndiGo      12/05/2019   Kolkata    Banglore        CCU → NAG → BLR   \n",
       "4       IndiGo      01/03/2019  Banglore   New Delhi        BLR → NAG → DEL   \n",
       "\n",
       "  Dep_Time  Arrival_Time Duration Total_Stops Additional_Info  Price  \n",
       "0    22:20  01:10 22 Mar   2h 50m    non-stop         No info   3897  \n",
       "1    05:50         13:15   7h 25m     2 stops         No info   7662  \n",
       "2    09:25  04:25 10 Jun      19h     2 stops         No info  13882  \n",
       "3    18:05         23:30   5h 25m      1 stop         No info   6218  \n",
       "4    16:50         21:35   4h 45m      1 stop         No info  13302  "
      ]
     },
     "execution_count": 3,
     "metadata": {},
     "output_type": "execute_result"
    }
   ],
   "source": [
    "data.head()"
   ]
  },
  {
   "cell_type": "code",
   "execution_count": 4,
   "id": "f62bd378-304d-4274-850a-486142ea71b0",
   "metadata": {},
   "outputs": [
    {
     "data": {
      "text/plain": [
       "array(['No info', 'In-flight meal not included',\n",
       "       'No check-in baggage included', '1 Short layover', 'No Info',\n",
       "       '1 Long layover', 'Change airports', 'Business class',\n",
       "       'Red-eye flight', '2 Long layover'], dtype=object)"
      ]
     },
     "execution_count": 4,
     "metadata": {},
     "output_type": "execute_result"
    }
   ],
   "source": [
    "data['Additional_Info'].unique()"
   ]
  },
  {
   "cell_type": "code",
   "execution_count": 5,
   "id": "249bc045-7c19-4ce0-aee6-4428b46ed0ba",
   "metadata": {},
   "outputs": [
    {
     "data": {
      "text/plain": [
       "Additional_Info\n",
       "No info                         78.114762\n",
       "In-flight meal not included     18.552841\n",
       "No check-in baggage included     2.995413\n",
       "1 Long layover                   0.177853\n",
       "Change airports                  0.065525\n",
       "Business class                   0.037443\n",
       "No Info                          0.028082\n",
       "1 Short layover                  0.009361\n",
       "Red-eye flight                   0.009361\n",
       "2 Long layover                   0.009361\n",
       "Name: count, dtype: float64"
      ]
     },
     "execution_count": 5,
     "metadata": {},
     "output_type": "execute_result"
    }
   ],
   "source": [
    "data['Additional_Info'].value_counts()*100/data['Additional_Info'].count()"
   ]
  },
  {
   "cell_type": "code",
   "execution_count": 6,
   "id": "eb423d18-a2e4-4d6d-9fe9-0654cb2ba7a9",
   "metadata": {},
   "outputs": [
    {
     "data": {
      "text/plain": [
       "array(['IndiGo', 'Air India', 'Jet Airways', 'SpiceJet',\n",
       "       'Multiple carriers', 'GoAir', 'Vistara', 'Air Asia',\n",
       "       'Vistara Premium economy', 'Jet Airways Business',\n",
       "       'Multiple carriers Premium economy', 'Trujet'], dtype=object)"
      ]
     },
     "execution_count": 6,
     "metadata": {},
     "output_type": "execute_result"
    }
   ],
   "source": [
    "data['Airline'].unique()"
   ]
  },
  {
   "cell_type": "code",
   "execution_count": 7,
   "id": "16b6ad90-0d59-4f47-b933-43751d277ccb",
   "metadata": {},
   "outputs": [
    {
     "data": {
      "text/plain": [
       "Airline            0\n",
       "Date_of_Journey    0\n",
       "Source             0\n",
       "Destination        0\n",
       "Route              1\n",
       "Dep_Time           0\n",
       "Arrival_Time       0\n",
       "Duration           0\n",
       "Total_Stops        1\n",
       "Additional_Info    0\n",
       "Price              0\n",
       "dtype: int64"
      ]
     },
     "execution_count": 7,
     "metadata": {},
     "output_type": "execute_result"
    }
   ],
   "source": [
    "data.isnull().sum()"
   ]
  },
  {
   "cell_type": "code",
   "execution_count": 8,
   "id": "6a17276b-b85e-4bda-9e09-60f1674ddab7",
   "metadata": {},
   "outputs": [
    {
     "data": {
      "text/plain": [
       "Index([9039], dtype='int64')"
      ]
     },
     "execution_count": 8,
     "metadata": {},
     "output_type": "execute_result"
    }
   ],
   "source": [
    "data[data['Route'].isnull()].index"
   ]
  },
  {
   "cell_type": "code",
   "execution_count": 9,
   "id": "9725c2c6-4f06-41e7-af96-224022c5404c",
   "metadata": {},
   "outputs": [],
   "source": [
    "data.drop(data[data['Route'].isnull()].index,inplace=True)\n",
    "data.drop(['Route','Additional_Info'],axis=1,inplace=True)"
   ]
  },
  {
   "cell_type": "code",
   "execution_count": 10,
   "id": "d738dd0d-cc7e-4a4b-b476-3fd90e0e7f9a",
   "metadata": {},
   "outputs": [
    {
     "name": "stdout",
     "output_type": "stream",
     "text": [
      "<class 'pandas.core.frame.DataFrame'>\n",
      "Index: 10682 entries, 0 to 10682\n",
      "Data columns (total 9 columns):\n",
      " #   Column           Non-Null Count  Dtype \n",
      "---  ------           --------------  ----- \n",
      " 0   Airline          10682 non-null  object\n",
      " 1   Date_of_Journey  10682 non-null  object\n",
      " 2   Source           10682 non-null  object\n",
      " 3   Destination      10682 non-null  object\n",
      " 4   Dep_Time         10682 non-null  object\n",
      " 5   Arrival_Time     10682 non-null  object\n",
      " 6   Duration         10682 non-null  object\n",
      " 7   Total_Stops      10682 non-null  object\n",
      " 8   Price            10682 non-null  int64 \n",
      "dtypes: int64(1), object(8)\n",
      "memory usage: 834.5+ KB\n"
     ]
    }
   ],
   "source": [
    "data.info()"
   ]
  },
  {
   "cell_type": "code",
   "execution_count": 11,
   "id": "c9743afe-2120-4a9b-9f64-f9b6df13076b",
   "metadata": {},
   "outputs": [],
   "source": [
    "import warnings\n",
    "warnings.filterwarnings('ignore')"
   ]
  },
  {
   "cell_type": "code",
   "execution_count": 12,
   "id": "3ba04990-8093-4cf8-a9bf-36dd51b9f090",
   "metadata": {
    "scrolled": true
   },
   "outputs": [],
   "source": [
    "data['j_date']=pd.to_datetime(data['Date_of_Journey']).dt.day\n",
    "data['j_mon']=pd.to_datetime(data['Date_of_Journey']).dt.month"
   ]
  },
  {
   "cell_type": "code",
   "execution_count": 13,
   "id": "50d51abe-f888-4a2f-a423-e3c00083afa9",
   "metadata": {},
   "outputs": [],
   "source": [
    "data['d_hr']=pd.to_datetime(data['Dep_Time']).dt.hour.astype('int64')\n",
    "data['d_min']=pd.to_datetime(data['Dep_Time']).dt.minute.astype('int64')"
   ]
  },
  {
   "cell_type": "code",
   "execution_count": 14,
   "id": "06cbc7c3-51ad-4fb3-bc2e-6864dd18f46f",
   "metadata": {},
   "outputs": [],
   "source": [
    "data['a_hr']=pd.to_datetime(data['Arrival_Time']).dt.hour.astype('int64')\n",
    "data['a_min']=pd.to_datetime(data['Arrival_Time']).dt.minute.astype('int64')"
   ]
  },
  {
   "cell_type": "code",
   "execution_count": 15,
   "id": "13af05b5-7d13-4efb-a1d2-7e5f69fff0d0",
   "metadata": {},
   "outputs": [
    {
     "name": "stdout",
     "output_type": "stream",
     "text": [
      "<class 'pandas.core.frame.DataFrame'>\n",
      "Index: 10682 entries, 0 to 10682\n",
      "Data columns (total 15 columns):\n",
      " #   Column           Non-Null Count  Dtype \n",
      "---  ------           --------------  ----- \n",
      " 0   Airline          10682 non-null  object\n",
      " 1   Date_of_Journey  10682 non-null  object\n",
      " 2   Source           10682 non-null  object\n",
      " 3   Destination      10682 non-null  object\n",
      " 4   Dep_Time         10682 non-null  object\n",
      " 5   Arrival_Time     10682 non-null  object\n",
      " 6   Duration         10682 non-null  object\n",
      " 7   Total_Stops      10682 non-null  object\n",
      " 8   Price            10682 non-null  int64 \n",
      " 9   j_date           10682 non-null  int32 \n",
      " 10  j_mon            10682 non-null  int32 \n",
      " 11  d_hr             10682 non-null  int64 \n",
      " 12  d_min            10682 non-null  int64 \n",
      " 13  a_hr             10682 non-null  int64 \n",
      " 14  a_min            10682 non-null  int64 \n",
      "dtypes: int32(2), int64(5), object(8)\n",
      "memory usage: 1.2+ MB\n"
     ]
    }
   ],
   "source": [
    "data.info()"
   ]
  },
  {
   "cell_type": "code",
   "execution_count": 16,
   "id": "524a2e70-5ce3-4426-901e-11bd630172fe",
   "metadata": {},
   "outputs": [],
   "source": [
    "lis=data['Duration']\n",
    "new_lis=[]\n",
    "for i in lis:\n",
    "    if len(i.split(' '))==1:\n",
    "        if 'm' in i:\n",
    "            i='0h '+i\n",
    "        else:\n",
    "            i=i+' 0m'\n",
    "    new_lis.append(i)\n",
    "data['Duration']=new_lis"
   ]
  },
  {
   "cell_type": "code",
   "execution_count": 17,
   "id": "99c937a1-aafa-4439-a3a2-3dc0644d85b9",
   "metadata": {},
   "outputs": [],
   "source": [
    "data['dur_h']=data['Duration'].str.split(' ').str[0].replace('h','',regex=True).astype('int64')\n",
    "data['dur_min']=data['Duration'].str.split(' ').str[1].replace('m','',regex=True).astype('int64')\n"
   ]
  },
  {
   "cell_type": "code",
   "execution_count": 18,
   "id": "45fab770-ec8a-4f52-aae5-3085377cf19b",
   "metadata": {},
   "outputs": [],
   "source": [
    "data.drop(['Date_of_Journey','Dep_Time','Arrival_Time','Duration'],axis=1,inplace=True)"
   ]
  },
  {
   "cell_type": "code",
   "execution_count": 19,
   "id": "02b99ef7-07fc-4587-b740-15ac3527bcd6",
   "metadata": {},
   "outputs": [
    {
     "data": {
      "text/html": [
       "<div>\n",
       "<style scoped>\n",
       "    .dataframe tbody tr th:only-of-type {\n",
       "        vertical-align: middle;\n",
       "    }\n",
       "\n",
       "    .dataframe tbody tr th {\n",
       "        vertical-align: top;\n",
       "    }\n",
       "\n",
       "    .dataframe thead th {\n",
       "        text-align: right;\n",
       "    }\n",
       "</style>\n",
       "<table border=\"1\" class=\"dataframe\">\n",
       "  <thead>\n",
       "    <tr style=\"text-align: right;\">\n",
       "      <th></th>\n",
       "      <th>Airline</th>\n",
       "      <th>Source</th>\n",
       "      <th>Destination</th>\n",
       "      <th>Total_Stops</th>\n",
       "      <th>Price</th>\n",
       "      <th>j_date</th>\n",
       "      <th>j_mon</th>\n",
       "      <th>d_hr</th>\n",
       "      <th>d_min</th>\n",
       "      <th>a_hr</th>\n",
       "      <th>a_min</th>\n",
       "      <th>dur_h</th>\n",
       "      <th>dur_min</th>\n",
       "    </tr>\n",
       "  </thead>\n",
       "  <tbody>\n",
       "    <tr>\n",
       "      <th>0</th>\n",
       "      <td>IndiGo</td>\n",
       "      <td>Banglore</td>\n",
       "      <td>New Delhi</td>\n",
       "      <td>non-stop</td>\n",
       "      <td>3897</td>\n",
       "      <td>24</td>\n",
       "      <td>3</td>\n",
       "      <td>22</td>\n",
       "      <td>20</td>\n",
       "      <td>1</td>\n",
       "      <td>10</td>\n",
       "      <td>2</td>\n",
       "      <td>50</td>\n",
       "    </tr>\n",
       "    <tr>\n",
       "      <th>1</th>\n",
       "      <td>Air India</td>\n",
       "      <td>Kolkata</td>\n",
       "      <td>Banglore</td>\n",
       "      <td>2 stops</td>\n",
       "      <td>7662</td>\n",
       "      <td>1</td>\n",
       "      <td>5</td>\n",
       "      <td>5</td>\n",
       "      <td>50</td>\n",
       "      <td>13</td>\n",
       "      <td>15</td>\n",
       "      <td>7</td>\n",
       "      <td>25</td>\n",
       "    </tr>\n",
       "    <tr>\n",
       "      <th>2</th>\n",
       "      <td>Jet Airways</td>\n",
       "      <td>Delhi</td>\n",
       "      <td>Cochin</td>\n",
       "      <td>2 stops</td>\n",
       "      <td>13882</td>\n",
       "      <td>9</td>\n",
       "      <td>6</td>\n",
       "      <td>9</td>\n",
       "      <td>25</td>\n",
       "      <td>4</td>\n",
       "      <td>25</td>\n",
       "      <td>19</td>\n",
       "      <td>0</td>\n",
       "    </tr>\n",
       "    <tr>\n",
       "      <th>3</th>\n",
       "      <td>IndiGo</td>\n",
       "      <td>Kolkata</td>\n",
       "      <td>Banglore</td>\n",
       "      <td>1 stop</td>\n",
       "      <td>6218</td>\n",
       "      <td>12</td>\n",
       "      <td>5</td>\n",
       "      <td>18</td>\n",
       "      <td>5</td>\n",
       "      <td>23</td>\n",
       "      <td>30</td>\n",
       "      <td>5</td>\n",
       "      <td>25</td>\n",
       "    </tr>\n",
       "    <tr>\n",
       "      <th>4</th>\n",
       "      <td>IndiGo</td>\n",
       "      <td>Banglore</td>\n",
       "      <td>New Delhi</td>\n",
       "      <td>1 stop</td>\n",
       "      <td>13302</td>\n",
       "      <td>1</td>\n",
       "      <td>3</td>\n",
       "      <td>16</td>\n",
       "      <td>50</td>\n",
       "      <td>21</td>\n",
       "      <td>35</td>\n",
       "      <td>4</td>\n",
       "      <td>45</td>\n",
       "    </tr>\n",
       "    <tr>\n",
       "      <th>...</th>\n",
       "      <td>...</td>\n",
       "      <td>...</td>\n",
       "      <td>...</td>\n",
       "      <td>...</td>\n",
       "      <td>...</td>\n",
       "      <td>...</td>\n",
       "      <td>...</td>\n",
       "      <td>...</td>\n",
       "      <td>...</td>\n",
       "      <td>...</td>\n",
       "      <td>...</td>\n",
       "      <td>...</td>\n",
       "      <td>...</td>\n",
       "    </tr>\n",
       "    <tr>\n",
       "      <th>10678</th>\n",
       "      <td>Air Asia</td>\n",
       "      <td>Kolkata</td>\n",
       "      <td>Banglore</td>\n",
       "      <td>non-stop</td>\n",
       "      <td>4107</td>\n",
       "      <td>9</td>\n",
       "      <td>4</td>\n",
       "      <td>19</td>\n",
       "      <td>55</td>\n",
       "      <td>22</td>\n",
       "      <td>25</td>\n",
       "      <td>2</td>\n",
       "      <td>30</td>\n",
       "    </tr>\n",
       "    <tr>\n",
       "      <th>10679</th>\n",
       "      <td>Air India</td>\n",
       "      <td>Kolkata</td>\n",
       "      <td>Banglore</td>\n",
       "      <td>non-stop</td>\n",
       "      <td>4145</td>\n",
       "      <td>27</td>\n",
       "      <td>4</td>\n",
       "      <td>20</td>\n",
       "      <td>45</td>\n",
       "      <td>23</td>\n",
       "      <td>20</td>\n",
       "      <td>2</td>\n",
       "      <td>35</td>\n",
       "    </tr>\n",
       "    <tr>\n",
       "      <th>10680</th>\n",
       "      <td>Jet Airways</td>\n",
       "      <td>Banglore</td>\n",
       "      <td>Delhi</td>\n",
       "      <td>non-stop</td>\n",
       "      <td>7229</td>\n",
       "      <td>27</td>\n",
       "      <td>4</td>\n",
       "      <td>8</td>\n",
       "      <td>20</td>\n",
       "      <td>11</td>\n",
       "      <td>20</td>\n",
       "      <td>3</td>\n",
       "      <td>0</td>\n",
       "    </tr>\n",
       "    <tr>\n",
       "      <th>10681</th>\n",
       "      <td>Vistara</td>\n",
       "      <td>Banglore</td>\n",
       "      <td>New Delhi</td>\n",
       "      <td>non-stop</td>\n",
       "      <td>12648</td>\n",
       "      <td>1</td>\n",
       "      <td>3</td>\n",
       "      <td>11</td>\n",
       "      <td>30</td>\n",
       "      <td>14</td>\n",
       "      <td>10</td>\n",
       "      <td>2</td>\n",
       "      <td>40</td>\n",
       "    </tr>\n",
       "    <tr>\n",
       "      <th>10682</th>\n",
       "      <td>Air India</td>\n",
       "      <td>Delhi</td>\n",
       "      <td>Cochin</td>\n",
       "      <td>2 stops</td>\n",
       "      <td>11753</td>\n",
       "      <td>9</td>\n",
       "      <td>5</td>\n",
       "      <td>10</td>\n",
       "      <td>55</td>\n",
       "      <td>19</td>\n",
       "      <td>15</td>\n",
       "      <td>8</td>\n",
       "      <td>20</td>\n",
       "    </tr>\n",
       "  </tbody>\n",
       "</table>\n",
       "<p>10682 rows × 13 columns</p>\n",
       "</div>"
      ],
      "text/plain": [
       "           Airline    Source Destination Total_Stops  Price  j_date  j_mon  \\\n",
       "0           IndiGo  Banglore   New Delhi    non-stop   3897      24      3   \n",
       "1        Air India   Kolkata    Banglore     2 stops   7662       1      5   \n",
       "2      Jet Airways     Delhi      Cochin     2 stops  13882       9      6   \n",
       "3           IndiGo   Kolkata    Banglore      1 stop   6218      12      5   \n",
       "4           IndiGo  Banglore   New Delhi      1 stop  13302       1      3   \n",
       "...            ...       ...         ...         ...    ...     ...    ...   \n",
       "10678     Air Asia   Kolkata    Banglore    non-stop   4107       9      4   \n",
       "10679    Air India   Kolkata    Banglore    non-stop   4145      27      4   \n",
       "10680  Jet Airways  Banglore       Delhi    non-stop   7229      27      4   \n",
       "10681      Vistara  Banglore   New Delhi    non-stop  12648       1      3   \n",
       "10682    Air India     Delhi      Cochin     2 stops  11753       9      5   \n",
       "\n",
       "       d_hr  d_min  a_hr  a_min  dur_h  dur_min  \n",
       "0        22     20     1     10      2       50  \n",
       "1         5     50    13     15      7       25  \n",
       "2         9     25     4     25     19        0  \n",
       "3        18      5    23     30      5       25  \n",
       "4        16     50    21     35      4       45  \n",
       "...     ...    ...   ...    ...    ...      ...  \n",
       "10678    19     55    22     25      2       30  \n",
       "10679    20     45    23     20      2       35  \n",
       "10680     8     20    11     20      3        0  \n",
       "10681    11     30    14     10      2       40  \n",
       "10682    10     55    19     15      8       20  \n",
       "\n",
       "[10682 rows x 13 columns]"
      ]
     },
     "execution_count": 19,
     "metadata": {},
     "output_type": "execute_result"
    }
   ],
   "source": [
    "data"
   ]
  },
  {
   "cell_type": "code",
   "execution_count": 20,
   "id": "293d8ab0-e655-463e-9a6f-a54852f39d9f",
   "metadata": {},
   "outputs": [
    {
     "data": {
      "text/plain": [
       "array(['non-stop', '2 stops', '1 stop', '3 stops', '4 stops'],\n",
       "      dtype=object)"
      ]
     },
     "execution_count": 20,
     "metadata": {},
     "output_type": "execute_result"
    }
   ],
   "source": [
    "data['Total_Stops'].unique()"
   ]
  },
  {
   "cell_type": "code",
   "execution_count": 21,
   "id": "4a1f7379-3017-4567-a2c5-9efb0e631b2a",
   "metadata": {},
   "outputs": [],
   "source": [
    "data['Total_Stops'].replace(['non-stop', '2 stops', '1 stop', '3 stops', '4 stops'],[0,2,1,3,4],inplace=True)"
   ]
  },
  {
   "cell_type": "code",
   "execution_count": 22,
   "id": "e1a47e20-f4ae-4b42-86df-e51af704fefc",
   "metadata": {},
   "outputs": [
    {
     "data": {
      "text/html": [
       "<div>\n",
       "<style scoped>\n",
       "    .dataframe tbody tr th:only-of-type {\n",
       "        vertical-align: middle;\n",
       "    }\n",
       "\n",
       "    .dataframe tbody tr th {\n",
       "        vertical-align: top;\n",
       "    }\n",
       "\n",
       "    .dataframe thead th {\n",
       "        text-align: right;\n",
       "    }\n",
       "</style>\n",
       "<table border=\"1\" class=\"dataframe\">\n",
       "  <thead>\n",
       "    <tr style=\"text-align: right;\">\n",
       "      <th></th>\n",
       "      <th>Airline</th>\n",
       "      <th>Source</th>\n",
       "      <th>Destination</th>\n",
       "      <th>Total_Stops</th>\n",
       "      <th>Price</th>\n",
       "      <th>j_date</th>\n",
       "      <th>j_mon</th>\n",
       "      <th>d_hr</th>\n",
       "      <th>d_min</th>\n",
       "      <th>a_hr</th>\n",
       "      <th>a_min</th>\n",
       "      <th>dur_h</th>\n",
       "      <th>dur_min</th>\n",
       "    </tr>\n",
       "  </thead>\n",
       "  <tbody>\n",
       "    <tr>\n",
       "      <th>0</th>\n",
       "      <td>IndiGo</td>\n",
       "      <td>Banglore</td>\n",
       "      <td>New Delhi</td>\n",
       "      <td>0</td>\n",
       "      <td>3897</td>\n",
       "      <td>24</td>\n",
       "      <td>3</td>\n",
       "      <td>22</td>\n",
       "      <td>20</td>\n",
       "      <td>1</td>\n",
       "      <td>10</td>\n",
       "      <td>2</td>\n",
       "      <td>50</td>\n",
       "    </tr>\n",
       "    <tr>\n",
       "      <th>1</th>\n",
       "      <td>Air India</td>\n",
       "      <td>Kolkata</td>\n",
       "      <td>Banglore</td>\n",
       "      <td>2</td>\n",
       "      <td>7662</td>\n",
       "      <td>1</td>\n",
       "      <td>5</td>\n",
       "      <td>5</td>\n",
       "      <td>50</td>\n",
       "      <td>13</td>\n",
       "      <td>15</td>\n",
       "      <td>7</td>\n",
       "      <td>25</td>\n",
       "    </tr>\n",
       "    <tr>\n",
       "      <th>2</th>\n",
       "      <td>Jet Airways</td>\n",
       "      <td>Delhi</td>\n",
       "      <td>Cochin</td>\n",
       "      <td>2</td>\n",
       "      <td>13882</td>\n",
       "      <td>9</td>\n",
       "      <td>6</td>\n",
       "      <td>9</td>\n",
       "      <td>25</td>\n",
       "      <td>4</td>\n",
       "      <td>25</td>\n",
       "      <td>19</td>\n",
       "      <td>0</td>\n",
       "    </tr>\n",
       "    <tr>\n",
       "      <th>3</th>\n",
       "      <td>IndiGo</td>\n",
       "      <td>Kolkata</td>\n",
       "      <td>Banglore</td>\n",
       "      <td>1</td>\n",
       "      <td>6218</td>\n",
       "      <td>12</td>\n",
       "      <td>5</td>\n",
       "      <td>18</td>\n",
       "      <td>5</td>\n",
       "      <td>23</td>\n",
       "      <td>30</td>\n",
       "      <td>5</td>\n",
       "      <td>25</td>\n",
       "    </tr>\n",
       "    <tr>\n",
       "      <th>4</th>\n",
       "      <td>IndiGo</td>\n",
       "      <td>Banglore</td>\n",
       "      <td>New Delhi</td>\n",
       "      <td>1</td>\n",
       "      <td>13302</td>\n",
       "      <td>1</td>\n",
       "      <td>3</td>\n",
       "      <td>16</td>\n",
       "      <td>50</td>\n",
       "      <td>21</td>\n",
       "      <td>35</td>\n",
       "      <td>4</td>\n",
       "      <td>45</td>\n",
       "    </tr>\n",
       "    <tr>\n",
       "      <th>...</th>\n",
       "      <td>...</td>\n",
       "      <td>...</td>\n",
       "      <td>...</td>\n",
       "      <td>...</td>\n",
       "      <td>...</td>\n",
       "      <td>...</td>\n",
       "      <td>...</td>\n",
       "      <td>...</td>\n",
       "      <td>...</td>\n",
       "      <td>...</td>\n",
       "      <td>...</td>\n",
       "      <td>...</td>\n",
       "      <td>...</td>\n",
       "    </tr>\n",
       "    <tr>\n",
       "      <th>10678</th>\n",
       "      <td>Air Asia</td>\n",
       "      <td>Kolkata</td>\n",
       "      <td>Banglore</td>\n",
       "      <td>0</td>\n",
       "      <td>4107</td>\n",
       "      <td>9</td>\n",
       "      <td>4</td>\n",
       "      <td>19</td>\n",
       "      <td>55</td>\n",
       "      <td>22</td>\n",
       "      <td>25</td>\n",
       "      <td>2</td>\n",
       "      <td>30</td>\n",
       "    </tr>\n",
       "    <tr>\n",
       "      <th>10679</th>\n",
       "      <td>Air India</td>\n",
       "      <td>Kolkata</td>\n",
       "      <td>Banglore</td>\n",
       "      <td>0</td>\n",
       "      <td>4145</td>\n",
       "      <td>27</td>\n",
       "      <td>4</td>\n",
       "      <td>20</td>\n",
       "      <td>45</td>\n",
       "      <td>23</td>\n",
       "      <td>20</td>\n",
       "      <td>2</td>\n",
       "      <td>35</td>\n",
       "    </tr>\n",
       "    <tr>\n",
       "      <th>10680</th>\n",
       "      <td>Jet Airways</td>\n",
       "      <td>Banglore</td>\n",
       "      <td>Delhi</td>\n",
       "      <td>0</td>\n",
       "      <td>7229</td>\n",
       "      <td>27</td>\n",
       "      <td>4</td>\n",
       "      <td>8</td>\n",
       "      <td>20</td>\n",
       "      <td>11</td>\n",
       "      <td>20</td>\n",
       "      <td>3</td>\n",
       "      <td>0</td>\n",
       "    </tr>\n",
       "    <tr>\n",
       "      <th>10681</th>\n",
       "      <td>Vistara</td>\n",
       "      <td>Banglore</td>\n",
       "      <td>New Delhi</td>\n",
       "      <td>0</td>\n",
       "      <td>12648</td>\n",
       "      <td>1</td>\n",
       "      <td>3</td>\n",
       "      <td>11</td>\n",
       "      <td>30</td>\n",
       "      <td>14</td>\n",
       "      <td>10</td>\n",
       "      <td>2</td>\n",
       "      <td>40</td>\n",
       "    </tr>\n",
       "    <tr>\n",
       "      <th>10682</th>\n",
       "      <td>Air India</td>\n",
       "      <td>Delhi</td>\n",
       "      <td>Cochin</td>\n",
       "      <td>2</td>\n",
       "      <td>11753</td>\n",
       "      <td>9</td>\n",
       "      <td>5</td>\n",
       "      <td>10</td>\n",
       "      <td>55</td>\n",
       "      <td>19</td>\n",
       "      <td>15</td>\n",
       "      <td>8</td>\n",
       "      <td>20</td>\n",
       "    </tr>\n",
       "  </tbody>\n",
       "</table>\n",
       "<p>10682 rows × 13 columns</p>\n",
       "</div>"
      ],
      "text/plain": [
       "           Airline    Source Destination  Total_Stops  Price  j_date  j_mon  \\\n",
       "0           IndiGo  Banglore   New Delhi            0   3897      24      3   \n",
       "1        Air India   Kolkata    Banglore            2   7662       1      5   \n",
       "2      Jet Airways     Delhi      Cochin            2  13882       9      6   \n",
       "3           IndiGo   Kolkata    Banglore            1   6218      12      5   \n",
       "4           IndiGo  Banglore   New Delhi            1  13302       1      3   \n",
       "...            ...       ...         ...          ...    ...     ...    ...   \n",
       "10678     Air Asia   Kolkata    Banglore            0   4107       9      4   \n",
       "10679    Air India   Kolkata    Banglore            0   4145      27      4   \n",
       "10680  Jet Airways  Banglore       Delhi            0   7229      27      4   \n",
       "10681      Vistara  Banglore   New Delhi            0  12648       1      3   \n",
       "10682    Air India     Delhi      Cochin            2  11753       9      5   \n",
       "\n",
       "       d_hr  d_min  a_hr  a_min  dur_h  dur_min  \n",
       "0        22     20     1     10      2       50  \n",
       "1         5     50    13     15      7       25  \n",
       "2         9     25     4     25     19        0  \n",
       "3        18      5    23     30      5       25  \n",
       "4        16     50    21     35      4       45  \n",
       "...     ...    ...   ...    ...    ...      ...  \n",
       "10678    19     55    22     25      2       30  \n",
       "10679    20     45    23     20      2       35  \n",
       "10680     8     20    11     20      3        0  \n",
       "10681    11     30    14     10      2       40  \n",
       "10682    10     55    19     15      8       20  \n",
       "\n",
       "[10682 rows x 13 columns]"
      ]
     },
     "execution_count": 22,
     "metadata": {},
     "output_type": "execute_result"
    }
   ],
   "source": [
    "data"
   ]
  },
  {
   "cell_type": "code",
   "execution_count": 23,
   "id": "831b31d0-3237-4f7d-85e3-1053c19c0fd3",
   "metadata": {},
   "outputs": [
    {
     "data": {
      "text/plain": [
       "array(['New Delhi', 'Banglore', 'Cochin', 'Kolkata', 'Delhi', 'Hyderabad'],\n",
       "      dtype=object)"
      ]
     },
     "execution_count": 23,
     "metadata": {},
     "output_type": "execute_result"
    }
   ],
   "source": [
    "data['Destination'].unique()"
   ]
  },
  {
   "cell_type": "code",
   "execution_count": 24,
   "id": "376f4ee7-8269-4401-acab-a7b6f5e8fb5c",
   "metadata": {},
   "outputs": [],
   "source": [
    "from sklearn.preprocessing import LabelEncoder"
   ]
  },
  {
   "cell_type": "code",
   "execution_count": 25,
   "id": "9acfbd70-c9b6-42f1-836a-64b029062277",
   "metadata": {},
   "outputs": [],
   "source": [
    "enc=LabelEncoder()"
   ]
  },
  {
   "cell_type": "code",
   "execution_count": 26,
   "id": "9a1d200d-bfb3-4fde-8715-f5f46c67b2e8",
   "metadata": {},
   "outputs": [],
   "source": [
    "data[['Airline','Source','Destination']]=data[['Airline','Source','Destination']].apply(enc.fit_transform)"
   ]
  },
  {
   "cell_type": "code",
   "execution_count": 27,
   "id": "4eee6aa8-4958-432b-830e-63a4e5cb8892",
   "metadata": {},
   "outputs": [
    {
     "name": "stdout",
     "output_type": "stream",
     "text": [
      "<class 'pandas.core.frame.DataFrame'>\n",
      "Index: 10682 entries, 0 to 10682\n",
      "Data columns (total 13 columns):\n",
      " #   Column       Non-Null Count  Dtype\n",
      "---  ------       --------------  -----\n",
      " 0   Airline      10682 non-null  int32\n",
      " 1   Source       10682 non-null  int32\n",
      " 2   Destination  10682 non-null  int32\n",
      " 3   Total_Stops  10682 non-null  int64\n",
      " 4   Price        10682 non-null  int64\n",
      " 5   j_date       10682 non-null  int32\n",
      " 6   j_mon        10682 non-null  int32\n",
      " 7   d_hr         10682 non-null  int64\n",
      " 8   d_min        10682 non-null  int64\n",
      " 9   a_hr         10682 non-null  int64\n",
      " 10  a_min        10682 non-null  int64\n",
      " 11  dur_h        10682 non-null  int64\n",
      " 12  dur_min      10682 non-null  int64\n",
      "dtypes: int32(5), int64(8)\n",
      "memory usage: 959.7 KB\n"
     ]
    }
   ],
   "source": [
    "data.info()"
   ]
  },
  {
   "cell_type": "code",
   "execution_count": 28,
   "id": "5658e1ee-584f-4e0a-a896-7c103d10609e",
   "metadata": {},
   "outputs": [
    {
     "data": {
      "text/html": [
       "<div>\n",
       "<style scoped>\n",
       "    .dataframe tbody tr th:only-of-type {\n",
       "        vertical-align: middle;\n",
       "    }\n",
       "\n",
       "    .dataframe tbody tr th {\n",
       "        vertical-align: top;\n",
       "    }\n",
       "\n",
       "    .dataframe thead th {\n",
       "        text-align: right;\n",
       "    }\n",
       "</style>\n",
       "<table border=\"1\" class=\"dataframe\">\n",
       "  <thead>\n",
       "    <tr style=\"text-align: right;\">\n",
       "      <th></th>\n",
       "      <th>Airline</th>\n",
       "      <th>Source</th>\n",
       "      <th>Destination</th>\n",
       "      <th>Total_Stops</th>\n",
       "      <th>Price</th>\n",
       "      <th>j_date</th>\n",
       "      <th>j_mon</th>\n",
       "      <th>d_hr</th>\n",
       "      <th>d_min</th>\n",
       "      <th>a_hr</th>\n",
       "      <th>a_min</th>\n",
       "      <th>dur_h</th>\n",
       "      <th>dur_min</th>\n",
       "    </tr>\n",
       "  </thead>\n",
       "  <tbody>\n",
       "    <tr>\n",
       "      <th>0</th>\n",
       "      <td>3</td>\n",
       "      <td>0</td>\n",
       "      <td>5</td>\n",
       "      <td>0</td>\n",
       "      <td>3897</td>\n",
       "      <td>24</td>\n",
       "      <td>3</td>\n",
       "      <td>22</td>\n",
       "      <td>20</td>\n",
       "      <td>1</td>\n",
       "      <td>10</td>\n",
       "      <td>2</td>\n",
       "      <td>50</td>\n",
       "    </tr>\n",
       "    <tr>\n",
       "      <th>1</th>\n",
       "      <td>1</td>\n",
       "      <td>3</td>\n",
       "      <td>0</td>\n",
       "      <td>2</td>\n",
       "      <td>7662</td>\n",
       "      <td>1</td>\n",
       "      <td>5</td>\n",
       "      <td>5</td>\n",
       "      <td>50</td>\n",
       "      <td>13</td>\n",
       "      <td>15</td>\n",
       "      <td>7</td>\n",
       "      <td>25</td>\n",
       "    </tr>\n",
       "    <tr>\n",
       "      <th>2</th>\n",
       "      <td>4</td>\n",
       "      <td>2</td>\n",
       "      <td>1</td>\n",
       "      <td>2</td>\n",
       "      <td>13882</td>\n",
       "      <td>9</td>\n",
       "      <td>6</td>\n",
       "      <td>9</td>\n",
       "      <td>25</td>\n",
       "      <td>4</td>\n",
       "      <td>25</td>\n",
       "      <td>19</td>\n",
       "      <td>0</td>\n",
       "    </tr>\n",
       "    <tr>\n",
       "      <th>3</th>\n",
       "      <td>3</td>\n",
       "      <td>3</td>\n",
       "      <td>0</td>\n",
       "      <td>1</td>\n",
       "      <td>6218</td>\n",
       "      <td>12</td>\n",
       "      <td>5</td>\n",
       "      <td>18</td>\n",
       "      <td>5</td>\n",
       "      <td>23</td>\n",
       "      <td>30</td>\n",
       "      <td>5</td>\n",
       "      <td>25</td>\n",
       "    </tr>\n",
       "    <tr>\n",
       "      <th>4</th>\n",
       "      <td>3</td>\n",
       "      <td>0</td>\n",
       "      <td>5</td>\n",
       "      <td>1</td>\n",
       "      <td>13302</td>\n",
       "      <td>1</td>\n",
       "      <td>3</td>\n",
       "      <td>16</td>\n",
       "      <td>50</td>\n",
       "      <td>21</td>\n",
       "      <td>35</td>\n",
       "      <td>4</td>\n",
       "      <td>45</td>\n",
       "    </tr>\n",
       "    <tr>\n",
       "      <th>...</th>\n",
       "      <td>...</td>\n",
       "      <td>...</td>\n",
       "      <td>...</td>\n",
       "      <td>...</td>\n",
       "      <td>...</td>\n",
       "      <td>...</td>\n",
       "      <td>...</td>\n",
       "      <td>...</td>\n",
       "      <td>...</td>\n",
       "      <td>...</td>\n",
       "      <td>...</td>\n",
       "      <td>...</td>\n",
       "      <td>...</td>\n",
       "    </tr>\n",
       "    <tr>\n",
       "      <th>10678</th>\n",
       "      <td>0</td>\n",
       "      <td>3</td>\n",
       "      <td>0</td>\n",
       "      <td>0</td>\n",
       "      <td>4107</td>\n",
       "      <td>9</td>\n",
       "      <td>4</td>\n",
       "      <td>19</td>\n",
       "      <td>55</td>\n",
       "      <td>22</td>\n",
       "      <td>25</td>\n",
       "      <td>2</td>\n",
       "      <td>30</td>\n",
       "    </tr>\n",
       "    <tr>\n",
       "      <th>10679</th>\n",
       "      <td>1</td>\n",
       "      <td>3</td>\n",
       "      <td>0</td>\n",
       "      <td>0</td>\n",
       "      <td>4145</td>\n",
       "      <td>27</td>\n",
       "      <td>4</td>\n",
       "      <td>20</td>\n",
       "      <td>45</td>\n",
       "      <td>23</td>\n",
       "      <td>20</td>\n",
       "      <td>2</td>\n",
       "      <td>35</td>\n",
       "    </tr>\n",
       "    <tr>\n",
       "      <th>10680</th>\n",
       "      <td>4</td>\n",
       "      <td>0</td>\n",
       "      <td>2</td>\n",
       "      <td>0</td>\n",
       "      <td>7229</td>\n",
       "      <td>27</td>\n",
       "      <td>4</td>\n",
       "      <td>8</td>\n",
       "      <td>20</td>\n",
       "      <td>11</td>\n",
       "      <td>20</td>\n",
       "      <td>3</td>\n",
       "      <td>0</td>\n",
       "    </tr>\n",
       "    <tr>\n",
       "      <th>10681</th>\n",
       "      <td>10</td>\n",
       "      <td>0</td>\n",
       "      <td>5</td>\n",
       "      <td>0</td>\n",
       "      <td>12648</td>\n",
       "      <td>1</td>\n",
       "      <td>3</td>\n",
       "      <td>11</td>\n",
       "      <td>30</td>\n",
       "      <td>14</td>\n",
       "      <td>10</td>\n",
       "      <td>2</td>\n",
       "      <td>40</td>\n",
       "    </tr>\n",
       "    <tr>\n",
       "      <th>10682</th>\n",
       "      <td>1</td>\n",
       "      <td>2</td>\n",
       "      <td>1</td>\n",
       "      <td>2</td>\n",
       "      <td>11753</td>\n",
       "      <td>9</td>\n",
       "      <td>5</td>\n",
       "      <td>10</td>\n",
       "      <td>55</td>\n",
       "      <td>19</td>\n",
       "      <td>15</td>\n",
       "      <td>8</td>\n",
       "      <td>20</td>\n",
       "    </tr>\n",
       "  </tbody>\n",
       "</table>\n",
       "<p>10682 rows × 13 columns</p>\n",
       "</div>"
      ],
      "text/plain": [
       "       Airline  Source  Destination  Total_Stops  Price  j_date  j_mon  d_hr  \\\n",
       "0            3       0            5            0   3897      24      3    22   \n",
       "1            1       3            0            2   7662       1      5     5   \n",
       "2            4       2            1            2  13882       9      6     9   \n",
       "3            3       3            0            1   6218      12      5    18   \n",
       "4            3       0            5            1  13302       1      3    16   \n",
       "...        ...     ...          ...          ...    ...     ...    ...   ...   \n",
       "10678        0       3            0            0   4107       9      4    19   \n",
       "10679        1       3            0            0   4145      27      4    20   \n",
       "10680        4       0            2            0   7229      27      4     8   \n",
       "10681       10       0            5            0  12648       1      3    11   \n",
       "10682        1       2            1            2  11753       9      5    10   \n",
       "\n",
       "       d_min  a_hr  a_min  dur_h  dur_min  \n",
       "0         20     1     10      2       50  \n",
       "1         50    13     15      7       25  \n",
       "2         25     4     25     19        0  \n",
       "3          5    23     30      5       25  \n",
       "4         50    21     35      4       45  \n",
       "...      ...   ...    ...    ...      ...  \n",
       "10678     55    22     25      2       30  \n",
       "10679     45    23     20      2       35  \n",
       "10680     20    11     20      3        0  \n",
       "10681     30    14     10      2       40  \n",
       "10682     55    19     15      8       20  \n",
       "\n",
       "[10682 rows x 13 columns]"
      ]
     },
     "execution_count": 28,
     "metadata": {},
     "output_type": "execute_result"
    }
   ],
   "source": [
    "data"
   ]
  },
  {
   "cell_type": "code",
   "execution_count": 29,
   "id": "d94f17e4-67ef-4510-b29e-c5a4d9b6b5c3",
   "metadata": {},
   "outputs": [],
   "source": [
    "data.to_excel(r'C:\\Users\\HP\\Desktop\\new folder\\live project\\ml2.xlsx',index=False)"
   ]
  },
  {
   "cell_type": "code",
   "execution_count": 30,
   "id": "8577e165-6f5a-4543-b838-d996953583ab",
   "metadata": {},
   "outputs": [],
   "source": [
    "data=pd.read_excel(r'C:\\Users\\HP\\Desktop\\new folder\\live project\\ml2.xlsx')"
   ]
  },
  {
   "cell_type": "code",
   "execution_count": 31,
   "id": "808af4fb-92c9-43ed-bb6d-c8f6ba6634bd",
   "metadata": {},
   "outputs": [
    {
     "data": {
      "text/html": [
       "<div>\n",
       "<style scoped>\n",
       "    .dataframe tbody tr th:only-of-type {\n",
       "        vertical-align: middle;\n",
       "    }\n",
       "\n",
       "    .dataframe tbody tr th {\n",
       "        vertical-align: top;\n",
       "    }\n",
       "\n",
       "    .dataframe thead th {\n",
       "        text-align: right;\n",
       "    }\n",
       "</style>\n",
       "<table border=\"1\" class=\"dataframe\">\n",
       "  <thead>\n",
       "    <tr style=\"text-align: right;\">\n",
       "      <th></th>\n",
       "      <th>Airline</th>\n",
       "      <th>Source</th>\n",
       "      <th>Destination</th>\n",
       "      <th>Total_Stops</th>\n",
       "      <th>Price</th>\n",
       "      <th>j_date</th>\n",
       "      <th>j_mon</th>\n",
       "      <th>d_hr</th>\n",
       "      <th>d_min</th>\n",
       "      <th>a_hr</th>\n",
       "      <th>a_min</th>\n",
       "      <th>dur_h</th>\n",
       "      <th>dur_min</th>\n",
       "    </tr>\n",
       "  </thead>\n",
       "  <tbody>\n",
       "    <tr>\n",
       "      <th>0</th>\n",
       "      <td>3</td>\n",
       "      <td>0</td>\n",
       "      <td>5</td>\n",
       "      <td>0</td>\n",
       "      <td>3897</td>\n",
       "      <td>24</td>\n",
       "      <td>3</td>\n",
       "      <td>22</td>\n",
       "      <td>20</td>\n",
       "      <td>1</td>\n",
       "      <td>10</td>\n",
       "      <td>2</td>\n",
       "      <td>50</td>\n",
       "    </tr>\n",
       "    <tr>\n",
       "      <th>1</th>\n",
       "      <td>1</td>\n",
       "      <td>3</td>\n",
       "      <td>0</td>\n",
       "      <td>2</td>\n",
       "      <td>7662</td>\n",
       "      <td>1</td>\n",
       "      <td>5</td>\n",
       "      <td>5</td>\n",
       "      <td>50</td>\n",
       "      <td>13</td>\n",
       "      <td>15</td>\n",
       "      <td>7</td>\n",
       "      <td>25</td>\n",
       "    </tr>\n",
       "    <tr>\n",
       "      <th>2</th>\n",
       "      <td>4</td>\n",
       "      <td>2</td>\n",
       "      <td>1</td>\n",
       "      <td>2</td>\n",
       "      <td>13882</td>\n",
       "      <td>9</td>\n",
       "      <td>6</td>\n",
       "      <td>9</td>\n",
       "      <td>25</td>\n",
       "      <td>4</td>\n",
       "      <td>25</td>\n",
       "      <td>19</td>\n",
       "      <td>0</td>\n",
       "    </tr>\n",
       "    <tr>\n",
       "      <th>3</th>\n",
       "      <td>3</td>\n",
       "      <td>3</td>\n",
       "      <td>0</td>\n",
       "      <td>1</td>\n",
       "      <td>6218</td>\n",
       "      <td>12</td>\n",
       "      <td>5</td>\n",
       "      <td>18</td>\n",
       "      <td>5</td>\n",
       "      <td>23</td>\n",
       "      <td>30</td>\n",
       "      <td>5</td>\n",
       "      <td>25</td>\n",
       "    </tr>\n",
       "    <tr>\n",
       "      <th>4</th>\n",
       "      <td>3</td>\n",
       "      <td>0</td>\n",
       "      <td>5</td>\n",
       "      <td>1</td>\n",
       "      <td>13302</td>\n",
       "      <td>1</td>\n",
       "      <td>3</td>\n",
       "      <td>16</td>\n",
       "      <td>50</td>\n",
       "      <td>21</td>\n",
       "      <td>35</td>\n",
       "      <td>4</td>\n",
       "      <td>45</td>\n",
       "    </tr>\n",
       "    <tr>\n",
       "      <th>...</th>\n",
       "      <td>...</td>\n",
       "      <td>...</td>\n",
       "      <td>...</td>\n",
       "      <td>...</td>\n",
       "      <td>...</td>\n",
       "      <td>...</td>\n",
       "      <td>...</td>\n",
       "      <td>...</td>\n",
       "      <td>...</td>\n",
       "      <td>...</td>\n",
       "      <td>...</td>\n",
       "      <td>...</td>\n",
       "      <td>...</td>\n",
       "    </tr>\n",
       "    <tr>\n",
       "      <th>10677</th>\n",
       "      <td>0</td>\n",
       "      <td>3</td>\n",
       "      <td>0</td>\n",
       "      <td>0</td>\n",
       "      <td>4107</td>\n",
       "      <td>9</td>\n",
       "      <td>4</td>\n",
       "      <td>19</td>\n",
       "      <td>55</td>\n",
       "      <td>22</td>\n",
       "      <td>25</td>\n",
       "      <td>2</td>\n",
       "      <td>30</td>\n",
       "    </tr>\n",
       "    <tr>\n",
       "      <th>10678</th>\n",
       "      <td>1</td>\n",
       "      <td>3</td>\n",
       "      <td>0</td>\n",
       "      <td>0</td>\n",
       "      <td>4145</td>\n",
       "      <td>27</td>\n",
       "      <td>4</td>\n",
       "      <td>20</td>\n",
       "      <td>45</td>\n",
       "      <td>23</td>\n",
       "      <td>20</td>\n",
       "      <td>2</td>\n",
       "      <td>35</td>\n",
       "    </tr>\n",
       "    <tr>\n",
       "      <th>10679</th>\n",
       "      <td>4</td>\n",
       "      <td>0</td>\n",
       "      <td>2</td>\n",
       "      <td>0</td>\n",
       "      <td>7229</td>\n",
       "      <td>27</td>\n",
       "      <td>4</td>\n",
       "      <td>8</td>\n",
       "      <td>20</td>\n",
       "      <td>11</td>\n",
       "      <td>20</td>\n",
       "      <td>3</td>\n",
       "      <td>0</td>\n",
       "    </tr>\n",
       "    <tr>\n",
       "      <th>10680</th>\n",
       "      <td>10</td>\n",
       "      <td>0</td>\n",
       "      <td>5</td>\n",
       "      <td>0</td>\n",
       "      <td>12648</td>\n",
       "      <td>1</td>\n",
       "      <td>3</td>\n",
       "      <td>11</td>\n",
       "      <td>30</td>\n",
       "      <td>14</td>\n",
       "      <td>10</td>\n",
       "      <td>2</td>\n",
       "      <td>40</td>\n",
       "    </tr>\n",
       "    <tr>\n",
       "      <th>10681</th>\n",
       "      <td>1</td>\n",
       "      <td>2</td>\n",
       "      <td>1</td>\n",
       "      <td>2</td>\n",
       "      <td>11753</td>\n",
       "      <td>9</td>\n",
       "      <td>5</td>\n",
       "      <td>10</td>\n",
       "      <td>55</td>\n",
       "      <td>19</td>\n",
       "      <td>15</td>\n",
       "      <td>8</td>\n",
       "      <td>20</td>\n",
       "    </tr>\n",
       "  </tbody>\n",
       "</table>\n",
       "<p>10682 rows × 13 columns</p>\n",
       "</div>"
      ],
      "text/plain": [
       "       Airline  Source  Destination  Total_Stops  Price  j_date  j_mon  d_hr  \\\n",
       "0            3       0            5            0   3897      24      3    22   \n",
       "1            1       3            0            2   7662       1      5     5   \n",
       "2            4       2            1            2  13882       9      6     9   \n",
       "3            3       3            0            1   6218      12      5    18   \n",
       "4            3       0            5            1  13302       1      3    16   \n",
       "...        ...     ...          ...          ...    ...     ...    ...   ...   \n",
       "10677        0       3            0            0   4107       9      4    19   \n",
       "10678        1       3            0            0   4145      27      4    20   \n",
       "10679        4       0            2            0   7229      27      4     8   \n",
       "10680       10       0            5            0  12648       1      3    11   \n",
       "10681        1       2            1            2  11753       9      5    10   \n",
       "\n",
       "       d_min  a_hr  a_min  dur_h  dur_min  \n",
       "0         20     1     10      2       50  \n",
       "1         50    13     15      7       25  \n",
       "2         25     4     25     19        0  \n",
       "3          5    23     30      5       25  \n",
       "4         50    21     35      4       45  \n",
       "...      ...   ...    ...    ...      ...  \n",
       "10677     55    22     25      2       30  \n",
       "10678     45    23     20      2       35  \n",
       "10679     20    11     20      3        0  \n",
       "10680     30    14     10      2       40  \n",
       "10681     55    19     15      8       20  \n",
       "\n",
       "[10682 rows x 13 columns]"
      ]
     },
     "execution_count": 31,
     "metadata": {},
     "output_type": "execute_result"
    }
   ],
   "source": [
    "data"
   ]
  },
  {
   "cell_type": "code",
   "execution_count": 32,
   "id": "ae64bfae-920c-474e-b847-3be59b33fe05",
   "metadata": {},
   "outputs": [],
   "source": [
    "x=data.drop('Price',axis=1)\n",
    "y=data['Price']"
   ]
  },
  {
   "cell_type": "code",
   "execution_count": 33,
   "id": "d062f526-f027-49ef-95e8-236f05897bdc",
   "metadata": {},
   "outputs": [],
   "source": [
    "from sklearn.model_selection import train_test_split"
   ]
  },
  {
   "cell_type": "code",
   "execution_count": 34,
   "id": "280425ea-256b-4abe-b1af-42639816263f",
   "metadata": {},
   "outputs": [],
   "source": [
    "x_train,x_test,y_train,y_test=train_test_split(x,y,train_size=0.8,random_state=20)"
   ]
  },
  {
   "cell_type": "code",
   "execution_count": 35,
   "id": "3a4e554a-3b09-4013-9a3b-a9931c10833d",
   "metadata": {},
   "outputs": [],
   "source": [
    "from sklearn.linear_model import LinearRegression"
   ]
  },
  {
   "cell_type": "code",
   "execution_count": 36,
   "id": "8a73f5b5-b8b7-4724-b7ab-492079bf5abe",
   "metadata": {},
   "outputs": [],
   "source": [
    "model=LinearRegression()"
   ]
  },
  {
   "cell_type": "code",
   "execution_count": 37,
   "id": "c7eb6097-ff82-424c-899c-e31cc3313c68",
   "metadata": {},
   "outputs": [
    {
     "data": {
      "text/html": [
       "<style>#sk-container-id-1 {color: black;background-color: white;}#sk-container-id-1 pre{padding: 0;}#sk-container-id-1 div.sk-toggleable {background-color: white;}#sk-container-id-1 label.sk-toggleable__label {cursor: pointer;display: block;width: 100%;margin-bottom: 0;padding: 0.3em;box-sizing: border-box;text-align: center;}#sk-container-id-1 label.sk-toggleable__label-arrow:before {content: \"▸\";float: left;margin-right: 0.25em;color: #696969;}#sk-container-id-1 label.sk-toggleable__label-arrow:hover:before {color: black;}#sk-container-id-1 div.sk-estimator:hover label.sk-toggleable__label-arrow:before {color: black;}#sk-container-id-1 div.sk-toggleable__content {max-height: 0;max-width: 0;overflow: hidden;text-align: left;background-color: #f0f8ff;}#sk-container-id-1 div.sk-toggleable__content pre {margin: 0.2em;color: black;border-radius: 0.25em;background-color: #f0f8ff;}#sk-container-id-1 input.sk-toggleable__control:checked~div.sk-toggleable__content {max-height: 200px;max-width: 100%;overflow: auto;}#sk-container-id-1 input.sk-toggleable__control:checked~label.sk-toggleable__label-arrow:before {content: \"▾\";}#sk-container-id-1 div.sk-estimator input.sk-toggleable__control:checked~label.sk-toggleable__label {background-color: #d4ebff;}#sk-container-id-1 div.sk-label input.sk-toggleable__control:checked~label.sk-toggleable__label {background-color: #d4ebff;}#sk-container-id-1 input.sk-hidden--visually {border: 0;clip: rect(1px 1px 1px 1px);clip: rect(1px, 1px, 1px, 1px);height: 1px;margin: -1px;overflow: hidden;padding: 0;position: absolute;width: 1px;}#sk-container-id-1 div.sk-estimator {font-family: monospace;background-color: #f0f8ff;border: 1px dotted black;border-radius: 0.25em;box-sizing: border-box;margin-bottom: 0.5em;}#sk-container-id-1 div.sk-estimator:hover {background-color: #d4ebff;}#sk-container-id-1 div.sk-parallel-item::after {content: \"\";width: 100%;border-bottom: 1px solid gray;flex-grow: 1;}#sk-container-id-1 div.sk-label:hover label.sk-toggleable__label {background-color: #d4ebff;}#sk-container-id-1 div.sk-serial::before {content: \"\";position: absolute;border-left: 1px solid gray;box-sizing: border-box;top: 0;bottom: 0;left: 50%;z-index: 0;}#sk-container-id-1 div.sk-serial {display: flex;flex-direction: column;align-items: center;background-color: white;padding-right: 0.2em;padding-left: 0.2em;position: relative;}#sk-container-id-1 div.sk-item {position: relative;z-index: 1;}#sk-container-id-1 div.sk-parallel {display: flex;align-items: stretch;justify-content: center;background-color: white;position: relative;}#sk-container-id-1 div.sk-item::before, #sk-container-id-1 div.sk-parallel-item::before {content: \"\";position: absolute;border-left: 1px solid gray;box-sizing: border-box;top: 0;bottom: 0;left: 50%;z-index: -1;}#sk-container-id-1 div.sk-parallel-item {display: flex;flex-direction: column;z-index: 1;position: relative;background-color: white;}#sk-container-id-1 div.sk-parallel-item:first-child::after {align-self: flex-end;width: 50%;}#sk-container-id-1 div.sk-parallel-item:last-child::after {align-self: flex-start;width: 50%;}#sk-container-id-1 div.sk-parallel-item:only-child::after {width: 0;}#sk-container-id-1 div.sk-dashed-wrapped {border: 1px dashed gray;margin: 0 0.4em 0.5em 0.4em;box-sizing: border-box;padding-bottom: 0.4em;background-color: white;}#sk-container-id-1 div.sk-label label {font-family: monospace;font-weight: bold;display: inline-block;line-height: 1.2em;}#sk-container-id-1 div.sk-label-container {text-align: center;}#sk-container-id-1 div.sk-container {/* jupyter's `normalize.less` sets `[hidden] { display: none; }` but bootstrap.min.css set `[hidden] { display: none !important; }` so we also need the `!important` here to be able to override the default hidden behavior on the sphinx rendered scikit-learn.org. See: https://github.com/scikit-learn/scikit-learn/issues/21755 */display: inline-block !important;position: relative;}#sk-container-id-1 div.sk-text-repr-fallback {display: none;}</style><div id=\"sk-container-id-1\" class=\"sk-top-container\"><div class=\"sk-text-repr-fallback\"><pre>LinearRegression()</pre><b>In a Jupyter environment, please rerun this cell to show the HTML representation or trust the notebook. <br />On GitHub, the HTML representation is unable to render, please try loading this page with nbviewer.org.</b></div><div class=\"sk-container\" hidden><div class=\"sk-item\"><div class=\"sk-estimator sk-toggleable\"><input class=\"sk-toggleable__control sk-hidden--visually\" id=\"sk-estimator-id-1\" type=\"checkbox\" checked><label for=\"sk-estimator-id-1\" class=\"sk-toggleable__label sk-toggleable__label-arrow\">LinearRegression</label><div class=\"sk-toggleable__content\"><pre>LinearRegression()</pre></div></div></div></div></div>"
      ],
      "text/plain": [
       "LinearRegression()"
      ]
     },
     "execution_count": 37,
     "metadata": {},
     "output_type": "execute_result"
    }
   ],
   "source": [
    "model.fit(x_train,y_train)"
   ]
  },
  {
   "cell_type": "code",
   "execution_count": 38,
   "id": "77b9132b-a8f4-438d-b4e6-416ce4860675",
   "metadata": {},
   "outputs": [
    {
     "data": {
      "text/plain": [
       "0.44001910677071876"
      ]
     },
     "execution_count": 38,
     "metadata": {},
     "output_type": "execute_result"
    }
   ],
   "source": [
    "model.score(x_train,y_train)"
   ]
  },
  {
   "cell_type": "code",
   "execution_count": 39,
   "id": "100dde6a-3349-4ecc-8046-0eef7fc6f1be",
   "metadata": {},
   "outputs": [
    {
     "data": {
      "text/plain": [
       "0.4218927196323802"
      ]
     },
     "execution_count": 39,
     "metadata": {},
     "output_type": "execute_result"
    }
   ],
   "source": [
    "model.score(x_test,y_test)"
   ]
  },
  {
   "cell_type": "code",
   "execution_count": 40,
   "id": "2389043c-55df-410d-89d2-d0f12dc251e4",
   "metadata": {},
   "outputs": [],
   "source": [
    "from sklearn.svm import SVR\n",
    "from sklearn.tree import DecisionTreeRegressor\n",
    "from sklearn.ensemble import RandomForestRegressor\n",
    "from sklearn.neighbors import KNeighborsRegressor\n",
    "from sklearn.model_selection import train_test_split,KFold,cross_val_score"
   ]
  },
  {
   "cell_type": "code",
   "execution_count": 41,
   "id": "22ee9357-d2b3-4493-8c98-44dcc6a92dd6",
   "metadata": {},
   "outputs": [],
   "source": [
    "list=[LinearRegression,RandomForestRegressor,DecisionTreeRegressor,SVR,KNeighborsRegressor]"
   ]
  },
  {
   "cell_type": "code",
   "execution_count": 42,
   "id": "b9972e4b-4948-4480-b518-374d3373af99",
   "metadata": {},
   "outputs": [
    {
     "name": "stdout",
     "output_type": "stream",
     "text": [
      "<class 'sklearn.linear_model._base.LinearRegression'>\n",
      "0.4352856259635294\n",
      "<class 'sklearn.ensemble._forest.RandomForestRegressor'>\n",
      "0.8073785428496363\n",
      "<class 'sklearn.tree._classes.DecisionTreeRegressor'>\n",
      "0.6913029082084137\n",
      "<class 'sklearn.svm._classes.SVR'>\n",
      "0.006243706082704659\n",
      "<class 'sklearn.neighbors._regression.KNeighborsRegressor'>\n",
      "0.6153886015695804\n"
     ]
    }
   ],
   "source": [
    "for i in list:\n",
    "    k=KFold(n_splits=5)\n",
    "    print(i)\n",
    "    model=i()\n",
    "    print(cross_val_score(model,x,y,cv=k).mean())\n",
    "    "
   ]
  },
  {
   "cell_type": "code",
   "execution_count": 43,
   "id": "ad55733c-c1fa-4310-bd40-9b2642a3c4e9",
   "metadata": {},
   "outputs": [],
   "source": [
    "train=[]\n",
    "test=[]\n",
    "for i in range(0,100,10):\n",
    "    x_train,x_test,y_train,y_test=train_test_split(x,y,train_size=0.8,random_state=i)\n",
    "    model=RandomForestRegressor(random_state=10)\n",
    "    model.fit(x_train,y_train)\n",
    "    train.append(model.score(x_train,y_train))\n",
    "    test.append(model.score(x_test,y_test))"
   ]
  },
  {
   "cell_type": "code",
   "execution_count": 44,
   "id": "6fa333b1-0c60-4855-9ea3-dbb17291b44b",
   "metadata": {},
   "outputs": [],
   "source": [
    "model=RandomForestRegressor(random_state=10)"
   ]
  },
  {
   "cell_type": "code",
   "execution_count": 45,
   "id": "1ff6f459-04f8-47df-896f-040a696c7718",
   "metadata": {},
   "outputs": [
    {
     "data": {
      "text/html": [
       "<style>#sk-container-id-2 {color: black;background-color: white;}#sk-container-id-2 pre{padding: 0;}#sk-container-id-2 div.sk-toggleable {background-color: white;}#sk-container-id-2 label.sk-toggleable__label {cursor: pointer;display: block;width: 100%;margin-bottom: 0;padding: 0.3em;box-sizing: border-box;text-align: center;}#sk-container-id-2 label.sk-toggleable__label-arrow:before {content: \"▸\";float: left;margin-right: 0.25em;color: #696969;}#sk-container-id-2 label.sk-toggleable__label-arrow:hover:before {color: black;}#sk-container-id-2 div.sk-estimator:hover label.sk-toggleable__label-arrow:before {color: black;}#sk-container-id-2 div.sk-toggleable__content {max-height: 0;max-width: 0;overflow: hidden;text-align: left;background-color: #f0f8ff;}#sk-container-id-2 div.sk-toggleable__content pre {margin: 0.2em;color: black;border-radius: 0.25em;background-color: #f0f8ff;}#sk-container-id-2 input.sk-toggleable__control:checked~div.sk-toggleable__content {max-height: 200px;max-width: 100%;overflow: auto;}#sk-container-id-2 input.sk-toggleable__control:checked~label.sk-toggleable__label-arrow:before {content: \"▾\";}#sk-container-id-2 div.sk-estimator input.sk-toggleable__control:checked~label.sk-toggleable__label {background-color: #d4ebff;}#sk-container-id-2 div.sk-label input.sk-toggleable__control:checked~label.sk-toggleable__label {background-color: #d4ebff;}#sk-container-id-2 input.sk-hidden--visually {border: 0;clip: rect(1px 1px 1px 1px);clip: rect(1px, 1px, 1px, 1px);height: 1px;margin: -1px;overflow: hidden;padding: 0;position: absolute;width: 1px;}#sk-container-id-2 div.sk-estimator {font-family: monospace;background-color: #f0f8ff;border: 1px dotted black;border-radius: 0.25em;box-sizing: border-box;margin-bottom: 0.5em;}#sk-container-id-2 div.sk-estimator:hover {background-color: #d4ebff;}#sk-container-id-2 div.sk-parallel-item::after {content: \"\";width: 100%;border-bottom: 1px solid gray;flex-grow: 1;}#sk-container-id-2 div.sk-label:hover label.sk-toggleable__label {background-color: #d4ebff;}#sk-container-id-2 div.sk-serial::before {content: \"\";position: absolute;border-left: 1px solid gray;box-sizing: border-box;top: 0;bottom: 0;left: 50%;z-index: 0;}#sk-container-id-2 div.sk-serial {display: flex;flex-direction: column;align-items: center;background-color: white;padding-right: 0.2em;padding-left: 0.2em;position: relative;}#sk-container-id-2 div.sk-item {position: relative;z-index: 1;}#sk-container-id-2 div.sk-parallel {display: flex;align-items: stretch;justify-content: center;background-color: white;position: relative;}#sk-container-id-2 div.sk-item::before, #sk-container-id-2 div.sk-parallel-item::before {content: \"\";position: absolute;border-left: 1px solid gray;box-sizing: border-box;top: 0;bottom: 0;left: 50%;z-index: -1;}#sk-container-id-2 div.sk-parallel-item {display: flex;flex-direction: column;z-index: 1;position: relative;background-color: white;}#sk-container-id-2 div.sk-parallel-item:first-child::after {align-self: flex-end;width: 50%;}#sk-container-id-2 div.sk-parallel-item:last-child::after {align-self: flex-start;width: 50%;}#sk-container-id-2 div.sk-parallel-item:only-child::after {width: 0;}#sk-container-id-2 div.sk-dashed-wrapped {border: 1px dashed gray;margin: 0 0.4em 0.5em 0.4em;box-sizing: border-box;padding-bottom: 0.4em;background-color: white;}#sk-container-id-2 div.sk-label label {font-family: monospace;font-weight: bold;display: inline-block;line-height: 1.2em;}#sk-container-id-2 div.sk-label-container {text-align: center;}#sk-container-id-2 div.sk-container {/* jupyter's `normalize.less` sets `[hidden] { display: none; }` but bootstrap.min.css set `[hidden] { display: none !important; }` so we also need the `!important` here to be able to override the default hidden behavior on the sphinx rendered scikit-learn.org. See: https://github.com/scikit-learn/scikit-learn/issues/21755 */display: inline-block !important;position: relative;}#sk-container-id-2 div.sk-text-repr-fallback {display: none;}</style><div id=\"sk-container-id-2\" class=\"sk-top-container\"><div class=\"sk-text-repr-fallback\"><pre>RandomForestRegressor(random_state=10)</pre><b>In a Jupyter environment, please rerun this cell to show the HTML representation or trust the notebook. <br />On GitHub, the HTML representation is unable to render, please try loading this page with nbviewer.org.</b></div><div class=\"sk-container\" hidden><div class=\"sk-item\"><div class=\"sk-estimator sk-toggleable\"><input class=\"sk-toggleable__control sk-hidden--visually\" id=\"sk-estimator-id-2\" type=\"checkbox\" checked><label for=\"sk-estimator-id-2\" class=\"sk-toggleable__label sk-toggleable__label-arrow\">RandomForestRegressor</label><div class=\"sk-toggleable__content\"><pre>RandomForestRegressor(random_state=10)</pre></div></div></div></div></div>"
      ],
      "text/plain": [
       "RandomForestRegressor(random_state=10)"
      ]
     },
     "execution_count": 45,
     "metadata": {},
     "output_type": "execute_result"
    }
   ],
   "source": [
    "model.fit(x_train,y_train)"
   ]
  },
  {
   "cell_type": "code",
   "execution_count": 46,
   "id": "166c2ba3-7aa9-4dcc-acab-0f1640da54b1",
   "metadata": {},
   "outputs": [
    {
     "data": {
      "text/plain": [
       "0.9538845788614569"
      ]
     },
     "execution_count": 46,
     "metadata": {},
     "output_type": "execute_result"
    }
   ],
   "source": [
    "model.score(x_train,y_train)\n"
   ]
  },
  {
   "cell_type": "code",
   "execution_count": 47,
   "id": "b296ada3-8b4e-4a0d-a3ac-f6dd77a5b730",
   "metadata": {},
   "outputs": [
    {
     "data": {
      "text/plain": [
       "0.7244940553957067"
      ]
     },
     "execution_count": 47,
     "metadata": {},
     "output_type": "execute_result"
    }
   ],
   "source": [
    "model.score(x_test,y_test)"
   ]
  },
  {
   "cell_type": "code",
   "execution_count": 48,
   "id": "58421ff7-a6a4-40ff-a68e-36f0faabdb1a",
   "metadata": {},
   "outputs": [
    {
     "data": {
      "text/plain": [
       "[0.9528974336557173,\n",
       " 0.9526647626124116,\n",
       " 0.9547138087478061,\n",
       " 0.9533133779603656,\n",
       " 0.9521253746031185,\n",
       " 0.9515752987983181,\n",
       " 0.954337831893185,\n",
       " 0.9531204181839845,\n",
       " 0.9500884557268278,\n",
       " 0.9538845788614569]"
      ]
     },
     "execution_count": 48,
     "metadata": {},
     "output_type": "execute_result"
    }
   ],
   "source": [
    "train"
   ]
  },
  {
   "cell_type": "code",
   "execution_count": 49,
   "id": "833c4b41-d0e3-4d17-82b5-8267a1a98fce",
   "metadata": {},
   "outputs": [
    {
     "data": {
      "text/plain": [
       "[0.7823379668573979,\n",
       " 0.8034204573281043,\n",
       " 0.7613963863142038,\n",
       " 0.7580687741432548,\n",
       " 0.8161836739166467,\n",
       " 0.7910250994279008,\n",
       " 0.7495472381774875,\n",
       " 0.80344825693783,\n",
       " 0.8155645734260755,\n",
       " 0.7244940553957067]"
      ]
     },
     "execution_count": 49,
     "metadata": {},
     "output_type": "execute_result"
    }
   ],
   "source": [
    "test"
   ]
  },
  {
   "cell_type": "code",
   "execution_count": 50,
   "id": "619c0b03-4ca7-48fe-a491-f95432cdc33c",
   "metadata": {},
   "outputs": [
    {
     "data": {
      "text/plain": [
       "4"
      ]
     },
     "execution_count": 50,
     "metadata": {},
     "output_type": "execute_result"
    }
   ],
   "source": [
    "test.index(max(test))"
   ]
  },
  {
   "cell_type": "code",
   "execution_count": 51,
   "id": "ebbfebaf-983c-4b38-8740-cd857fbddd2f",
   "metadata": {},
   "outputs": [
    {
     "name": "stdout",
     "output_type": "stream",
     "text": [
      "0.9521253746031185\n",
      "0.8161836739166467\n"
     ]
    }
   ],
   "source": [
    "x_train,x_test,y_train,y_test=train_test_split(x,y,train_size=0.8,random_state=40)\n",
    "model=RandomForestRegressor(random_state=10)\n",
    "model.fit(x_train,y_train)\n",
    "print(model.score(x_train,y_train))\n",
    "print(model.score(x_test,y_test))"
   ]
  },
  {
   "cell_type": "code",
   "execution_count": 52,
   "id": "8e7ed198-b10a-436f-adac-c89851738dca",
   "metadata": {},
   "outputs": [],
   "source": [
    "dic={'n_estimators':[100,110,120],'max_depth':[2,3,4],'random_state':[10,15,12]}"
   ]
  },
  {
   "cell_type": "code",
   "execution_count": 53,
   "id": "7b3410c6-3d4e-4011-96c3-bf0a51e7e6cb",
   "metadata": {},
   "outputs": [],
   "source": [
    "from sklearn.model_selection import RandomizedSearchCV"
   ]
  },
  {
   "cell_type": "code",
   "execution_count": 54,
   "id": "5dd3207c-7feb-4dc4-bc06-7f944380eec6",
   "metadata": {},
   "outputs": [],
   "source": [
    "random=RandomizedSearchCV(RandomForestRegressor(),param_distributions=dic,n_iter=30,cv=k,verbose=2)"
   ]
  },
  {
   "cell_type": "code",
   "execution_count": 55,
   "id": "284e09f6-0bf7-4407-9494-44afaac2c783",
   "metadata": {},
   "outputs": [
    {
     "name": "stdout",
     "output_type": "stream",
     "text": [
      "Fitting 5 folds for each of 27 candidates, totalling 135 fits\n",
      "[CV] END .....max_depth=2, n_estimators=100, random_state=10; total time=   0.6s\n",
      "[CV] END .....max_depth=2, n_estimators=100, random_state=10; total time=   0.6s\n",
      "[CV] END .....max_depth=2, n_estimators=100, random_state=10; total time=   0.6s\n",
      "[CV] END .....max_depth=2, n_estimators=100, random_state=10; total time=   0.7s\n",
      "[CV] END .....max_depth=2, n_estimators=100, random_state=10; total time=   0.6s\n",
      "[CV] END .....max_depth=2, n_estimators=100, random_state=15; total time=   0.6s\n",
      "[CV] END .....max_depth=2, n_estimators=100, random_state=15; total time=   0.6s\n",
      "[CV] END .....max_depth=2, n_estimators=100, random_state=15; total time=   0.6s\n",
      "[CV] END .....max_depth=2, n_estimators=100, random_state=15; total time=   0.6s\n",
      "[CV] END .....max_depth=2, n_estimators=100, random_state=15; total time=   0.6s\n",
      "[CV] END .....max_depth=2, n_estimators=100, random_state=12; total time=   0.6s\n",
      "[CV] END .....max_depth=2, n_estimators=100, random_state=12; total time=   0.6s\n",
      "[CV] END .....max_depth=2, n_estimators=100, random_state=12; total time=   0.6s\n",
      "[CV] END .....max_depth=2, n_estimators=100, random_state=12; total time=   0.6s\n",
      "[CV] END .....max_depth=2, n_estimators=100, random_state=12; total time=   0.6s\n",
      "[CV] END .....max_depth=2, n_estimators=110, random_state=10; total time=   0.7s\n",
      "[CV] END .....max_depth=2, n_estimators=110, random_state=10; total time=   0.7s\n",
      "[CV] END .....max_depth=2, n_estimators=110, random_state=10; total time=   0.7s\n",
      "[CV] END .....max_depth=2, n_estimators=110, random_state=10; total time=   0.7s\n",
      "[CV] END .....max_depth=2, n_estimators=110, random_state=10; total time=   0.7s\n",
      "[CV] END .....max_depth=2, n_estimators=110, random_state=15; total time=   0.7s\n",
      "[CV] END .....max_depth=2, n_estimators=110, random_state=15; total time=   0.7s\n",
      "[CV] END .....max_depth=2, n_estimators=110, random_state=15; total time=   0.7s\n",
      "[CV] END .....max_depth=2, n_estimators=110, random_state=15; total time=   0.7s\n",
      "[CV] END .....max_depth=2, n_estimators=110, random_state=15; total time=   0.7s\n",
      "[CV] END .....max_depth=2, n_estimators=110, random_state=12; total time=   0.7s\n",
      "[CV] END .....max_depth=2, n_estimators=110, random_state=12; total time=   0.7s\n",
      "[CV] END .....max_depth=2, n_estimators=110, random_state=12; total time=   0.7s\n",
      "[CV] END .....max_depth=2, n_estimators=110, random_state=12; total time=   0.7s\n",
      "[CV] END .....max_depth=2, n_estimators=110, random_state=12; total time=   0.7s\n",
      "[CV] END .....max_depth=2, n_estimators=120, random_state=10; total time=   0.8s\n",
      "[CV] END .....max_depth=2, n_estimators=120, random_state=10; total time=   0.7s\n",
      "[CV] END .....max_depth=2, n_estimators=120, random_state=10; total time=   0.7s\n",
      "[CV] END .....max_depth=2, n_estimators=120, random_state=10; total time=   0.7s\n",
      "[CV] END .....max_depth=2, n_estimators=120, random_state=10; total time=   0.7s\n",
      "[CV] END .....max_depth=2, n_estimators=120, random_state=15; total time=   0.7s\n",
      "[CV] END .....max_depth=2, n_estimators=120, random_state=15; total time=   0.7s\n",
      "[CV] END .....max_depth=2, n_estimators=120, random_state=15; total time=   0.8s\n",
      "[CV] END .....max_depth=2, n_estimators=120, random_state=15; total time=   0.7s\n",
      "[CV] END .....max_depth=2, n_estimators=120, random_state=15; total time=   0.8s\n",
      "[CV] END .....max_depth=2, n_estimators=120, random_state=12; total time=   0.8s\n",
      "[CV] END .....max_depth=2, n_estimators=120, random_state=12; total time=   0.8s\n",
      "[CV] END .....max_depth=2, n_estimators=120, random_state=12; total time=   0.7s\n",
      "[CV] END .....max_depth=2, n_estimators=120, random_state=12; total time=   0.7s\n",
      "[CV] END .....max_depth=2, n_estimators=120, random_state=12; total time=   0.7s\n",
      "[CV] END .....max_depth=3, n_estimators=100, random_state=10; total time=   0.8s\n",
      "[CV] END .....max_depth=3, n_estimators=100, random_state=10; total time=   0.8s\n",
      "[CV] END .....max_depth=3, n_estimators=100, random_state=10; total time=   0.8s\n",
      "[CV] END .....max_depth=3, n_estimators=100, random_state=10; total time=   0.8s\n",
      "[CV] END .....max_depth=3, n_estimators=100, random_state=10; total time=   0.8s\n",
      "[CV] END .....max_depth=3, n_estimators=100, random_state=15; total time=   0.8s\n",
      "[CV] END .....max_depth=3, n_estimators=100, random_state=15; total time=   0.9s\n",
      "[CV] END .....max_depth=3, n_estimators=100, random_state=15; total time=   0.8s\n",
      "[CV] END .....max_depth=3, n_estimators=100, random_state=15; total time=   0.8s\n",
      "[CV] END .....max_depth=3, n_estimators=100, random_state=15; total time=   0.8s\n",
      "[CV] END .....max_depth=3, n_estimators=100, random_state=12; total time=   0.9s\n",
      "[CV] END .....max_depth=3, n_estimators=100, random_state=12; total time=   0.8s\n",
      "[CV] END .....max_depth=3, n_estimators=100, random_state=12; total time=   0.8s\n",
      "[CV] END .....max_depth=3, n_estimators=100, random_state=12; total time=   0.8s\n",
      "[CV] END .....max_depth=3, n_estimators=100, random_state=12; total time=   0.8s\n",
      "[CV] END .....max_depth=3, n_estimators=110, random_state=10; total time=   0.9s\n",
      "[CV] END .....max_depth=3, n_estimators=110, random_state=10; total time=   0.9s\n",
      "[CV] END .....max_depth=3, n_estimators=110, random_state=10; total time=   0.9s\n",
      "[CV] END .....max_depth=3, n_estimators=110, random_state=10; total time=   0.9s\n",
      "[CV] END .....max_depth=3, n_estimators=110, random_state=10; total time=   0.9s\n",
      "[CV] END .....max_depth=3, n_estimators=110, random_state=15; total time=   0.9s\n",
      "[CV] END .....max_depth=3, n_estimators=110, random_state=15; total time=   0.9s\n",
      "[CV] END .....max_depth=3, n_estimators=110, random_state=15; total time=   0.9s\n",
      "[CV] END .....max_depth=3, n_estimators=110, random_state=15; total time=   0.9s\n",
      "[CV] END .....max_depth=3, n_estimators=110, random_state=15; total time=   0.9s\n",
      "[CV] END .....max_depth=3, n_estimators=110, random_state=12; total time=   0.9s\n",
      "[CV] END .....max_depth=3, n_estimators=110, random_state=12; total time=   0.9s\n",
      "[CV] END .....max_depth=3, n_estimators=110, random_state=12; total time=   0.9s\n",
      "[CV] END .....max_depth=3, n_estimators=110, random_state=12; total time=   0.9s\n",
      "[CV] END .....max_depth=3, n_estimators=110, random_state=12; total time=   0.9s\n",
      "[CV] END .....max_depth=3, n_estimators=120, random_state=10; total time=   1.0s\n",
      "[CV] END .....max_depth=3, n_estimators=120, random_state=10; total time=   1.0s\n",
      "[CV] END .....max_depth=3, n_estimators=120, random_state=10; total time=   1.0s\n",
      "[CV] END .....max_depth=3, n_estimators=120, random_state=10; total time=   1.0s\n",
      "[CV] END .....max_depth=3, n_estimators=120, random_state=10; total time=   1.0s\n",
      "[CV] END .....max_depth=3, n_estimators=120, random_state=15; total time=   1.0s\n",
      "[CV] END .....max_depth=3, n_estimators=120, random_state=15; total time=   1.1s\n",
      "[CV] END .....max_depth=3, n_estimators=120, random_state=15; total time=   1.0s\n",
      "[CV] END .....max_depth=3, n_estimators=120, random_state=15; total time=   1.0s\n",
      "[CV] END .....max_depth=3, n_estimators=120, random_state=15; total time=   1.0s\n",
      "[CV] END .....max_depth=3, n_estimators=120, random_state=12; total time=   1.0s\n",
      "[CV] END .....max_depth=3, n_estimators=120, random_state=12; total time=   1.0s\n",
      "[CV] END .....max_depth=3, n_estimators=120, random_state=12; total time=   1.0s\n",
      "[CV] END .....max_depth=3, n_estimators=120, random_state=12; total time=   1.0s\n",
      "[CV] END .....max_depth=3, n_estimators=120, random_state=12; total time=   1.1s\n",
      "[CV] END .....max_depth=4, n_estimators=100, random_state=10; total time=   1.2s\n",
      "[CV] END .....max_depth=4, n_estimators=100, random_state=10; total time=   1.1s\n",
      "[CV] END .....max_depth=4, n_estimators=100, random_state=10; total time=   1.0s\n",
      "[CV] END .....max_depth=4, n_estimators=100, random_state=10; total time=   1.0s\n",
      "[CV] END .....max_depth=4, n_estimators=100, random_state=10; total time=   1.0s\n",
      "[CV] END .....max_depth=4, n_estimators=100, random_state=15; total time=   1.0s\n",
      "[CV] END .....max_depth=4, n_estimators=100, random_state=15; total time=   1.0s\n",
      "[CV] END .....max_depth=4, n_estimators=100, random_state=15; total time=   1.0s\n",
      "[CV] END .....max_depth=4, n_estimators=100, random_state=15; total time=   1.0s\n",
      "[CV] END .....max_depth=4, n_estimators=100, random_state=15; total time=   1.0s\n",
      "[CV] END .....max_depth=4, n_estimators=100, random_state=12; total time=   1.1s\n",
      "[CV] END .....max_depth=4, n_estimators=100, random_state=12; total time=   1.0s\n",
      "[CV] END .....max_depth=4, n_estimators=100, random_state=12; total time=   1.0s\n",
      "[CV] END .....max_depth=4, n_estimators=100, random_state=12; total time=   1.0s\n",
      "[CV] END .....max_depth=4, n_estimators=100, random_state=12; total time=   1.1s\n",
      "[CV] END .....max_depth=4, n_estimators=110, random_state=10; total time=   1.1s\n",
      "[CV] END .....max_depth=4, n_estimators=110, random_state=10; total time=   1.1s\n",
      "[CV] END .....max_depth=4, n_estimators=110, random_state=10; total time=   1.1s\n",
      "[CV] END .....max_depth=4, n_estimators=110, random_state=10; total time=   1.2s\n",
      "[CV] END .....max_depth=4, n_estimators=110, random_state=10; total time=   1.1s\n",
      "[CV] END .....max_depth=4, n_estimators=110, random_state=15; total time=   1.1s\n",
      "[CV] END .....max_depth=4, n_estimators=110, random_state=15; total time=   1.1s\n",
      "[CV] END .....max_depth=4, n_estimators=110, random_state=15; total time=   1.1s\n",
      "[CV] END .....max_depth=4, n_estimators=110, random_state=15; total time=   1.2s\n",
      "[CV] END .....max_depth=4, n_estimators=110, random_state=15; total time=   1.1s\n",
      "[CV] END .....max_depth=4, n_estimators=110, random_state=12; total time=   1.1s\n",
      "[CV] END .....max_depth=4, n_estimators=110, random_state=12; total time=   1.2s\n",
      "[CV] END .....max_depth=4, n_estimators=110, random_state=12; total time=   1.2s\n",
      "[CV] END .....max_depth=4, n_estimators=110, random_state=12; total time=   1.1s\n",
      "[CV] END .....max_depth=4, n_estimators=110, random_state=12; total time=   1.1s\n",
      "[CV] END .....max_depth=4, n_estimators=120, random_state=10; total time=   1.2s\n",
      "[CV] END .....max_depth=4, n_estimators=120, random_state=10; total time=   1.2s\n",
      "[CV] END .....max_depth=4, n_estimators=120, random_state=10; total time=   1.2s\n",
      "[CV] END .....max_depth=4, n_estimators=120, random_state=10; total time=   1.2s\n",
      "[CV] END .....max_depth=4, n_estimators=120, random_state=10; total time=   1.3s\n",
      "[CV] END .....max_depth=4, n_estimators=120, random_state=15; total time=   1.2s\n",
      "[CV] END .....max_depth=4, n_estimators=120, random_state=15; total time=   1.2s\n",
      "[CV] END .....max_depth=4, n_estimators=120, random_state=15; total time=   1.2s\n",
      "[CV] END .....max_depth=4, n_estimators=120, random_state=15; total time=   1.3s\n",
      "[CV] END .....max_depth=4, n_estimators=120, random_state=15; total time=   1.2s\n",
      "[CV] END .....max_depth=4, n_estimators=120, random_state=12; total time=   1.3s\n",
      "[CV] END .....max_depth=4, n_estimators=120, random_state=12; total time=   1.3s\n",
      "[CV] END .....max_depth=4, n_estimators=120, random_state=12; total time=   1.3s\n",
      "[CV] END .....max_depth=4, n_estimators=120, random_state=12; total time=   1.2s\n",
      "[CV] END .....max_depth=4, n_estimators=120, random_state=12; total time=   1.3s\n"
     ]
    },
    {
     "data": {
      "text/html": [
       "<style>#sk-container-id-3 {color: black;background-color: white;}#sk-container-id-3 pre{padding: 0;}#sk-container-id-3 div.sk-toggleable {background-color: white;}#sk-container-id-3 label.sk-toggleable__label {cursor: pointer;display: block;width: 100%;margin-bottom: 0;padding: 0.3em;box-sizing: border-box;text-align: center;}#sk-container-id-3 label.sk-toggleable__label-arrow:before {content: \"▸\";float: left;margin-right: 0.25em;color: #696969;}#sk-container-id-3 label.sk-toggleable__label-arrow:hover:before {color: black;}#sk-container-id-3 div.sk-estimator:hover label.sk-toggleable__label-arrow:before {color: black;}#sk-container-id-3 div.sk-toggleable__content {max-height: 0;max-width: 0;overflow: hidden;text-align: left;background-color: #f0f8ff;}#sk-container-id-3 div.sk-toggleable__content pre {margin: 0.2em;color: black;border-radius: 0.25em;background-color: #f0f8ff;}#sk-container-id-3 input.sk-toggleable__control:checked~div.sk-toggleable__content {max-height: 200px;max-width: 100%;overflow: auto;}#sk-container-id-3 input.sk-toggleable__control:checked~label.sk-toggleable__label-arrow:before {content: \"▾\";}#sk-container-id-3 div.sk-estimator input.sk-toggleable__control:checked~label.sk-toggleable__label {background-color: #d4ebff;}#sk-container-id-3 div.sk-label input.sk-toggleable__control:checked~label.sk-toggleable__label {background-color: #d4ebff;}#sk-container-id-3 input.sk-hidden--visually {border: 0;clip: rect(1px 1px 1px 1px);clip: rect(1px, 1px, 1px, 1px);height: 1px;margin: -1px;overflow: hidden;padding: 0;position: absolute;width: 1px;}#sk-container-id-3 div.sk-estimator {font-family: monospace;background-color: #f0f8ff;border: 1px dotted black;border-radius: 0.25em;box-sizing: border-box;margin-bottom: 0.5em;}#sk-container-id-3 div.sk-estimator:hover {background-color: #d4ebff;}#sk-container-id-3 div.sk-parallel-item::after {content: \"\";width: 100%;border-bottom: 1px solid gray;flex-grow: 1;}#sk-container-id-3 div.sk-label:hover label.sk-toggleable__label {background-color: #d4ebff;}#sk-container-id-3 div.sk-serial::before {content: \"\";position: absolute;border-left: 1px solid gray;box-sizing: border-box;top: 0;bottom: 0;left: 50%;z-index: 0;}#sk-container-id-3 div.sk-serial {display: flex;flex-direction: column;align-items: center;background-color: white;padding-right: 0.2em;padding-left: 0.2em;position: relative;}#sk-container-id-3 div.sk-item {position: relative;z-index: 1;}#sk-container-id-3 div.sk-parallel {display: flex;align-items: stretch;justify-content: center;background-color: white;position: relative;}#sk-container-id-3 div.sk-item::before, #sk-container-id-3 div.sk-parallel-item::before {content: \"\";position: absolute;border-left: 1px solid gray;box-sizing: border-box;top: 0;bottom: 0;left: 50%;z-index: -1;}#sk-container-id-3 div.sk-parallel-item {display: flex;flex-direction: column;z-index: 1;position: relative;background-color: white;}#sk-container-id-3 div.sk-parallel-item:first-child::after {align-self: flex-end;width: 50%;}#sk-container-id-3 div.sk-parallel-item:last-child::after {align-self: flex-start;width: 50%;}#sk-container-id-3 div.sk-parallel-item:only-child::after {width: 0;}#sk-container-id-3 div.sk-dashed-wrapped {border: 1px dashed gray;margin: 0 0.4em 0.5em 0.4em;box-sizing: border-box;padding-bottom: 0.4em;background-color: white;}#sk-container-id-3 div.sk-label label {font-family: monospace;font-weight: bold;display: inline-block;line-height: 1.2em;}#sk-container-id-3 div.sk-label-container {text-align: center;}#sk-container-id-3 div.sk-container {/* jupyter's `normalize.less` sets `[hidden] { display: none; }` but bootstrap.min.css set `[hidden] { display: none !important; }` so we also need the `!important` here to be able to override the default hidden behavior on the sphinx rendered scikit-learn.org. See: https://github.com/scikit-learn/scikit-learn/issues/21755 */display: inline-block !important;position: relative;}#sk-container-id-3 div.sk-text-repr-fallback {display: none;}</style><div id=\"sk-container-id-3\" class=\"sk-top-container\"><div class=\"sk-text-repr-fallback\"><pre>RandomizedSearchCV(cv=KFold(n_splits=5, random_state=None, shuffle=False),\n",
       "                   estimator=RandomForestRegressor(), n_iter=30,\n",
       "                   param_distributions={&#x27;max_depth&#x27;: [2, 3, 4],\n",
       "                                        &#x27;n_estimators&#x27;: [100, 110, 120],\n",
       "                                        &#x27;random_state&#x27;: [10, 15, 12]},\n",
       "                   verbose=2)</pre><b>In a Jupyter environment, please rerun this cell to show the HTML representation or trust the notebook. <br />On GitHub, the HTML representation is unable to render, please try loading this page with nbviewer.org.</b></div><div class=\"sk-container\" hidden><div class=\"sk-item sk-dashed-wrapped\"><div class=\"sk-label-container\"><div class=\"sk-label sk-toggleable\"><input class=\"sk-toggleable__control sk-hidden--visually\" id=\"sk-estimator-id-3\" type=\"checkbox\" ><label for=\"sk-estimator-id-3\" class=\"sk-toggleable__label sk-toggleable__label-arrow\">RandomizedSearchCV</label><div class=\"sk-toggleable__content\"><pre>RandomizedSearchCV(cv=KFold(n_splits=5, random_state=None, shuffle=False),\n",
       "                   estimator=RandomForestRegressor(), n_iter=30,\n",
       "                   param_distributions={&#x27;max_depth&#x27;: [2, 3, 4],\n",
       "                                        &#x27;n_estimators&#x27;: [100, 110, 120],\n",
       "                                        &#x27;random_state&#x27;: [10, 15, 12]},\n",
       "                   verbose=2)</pre></div></div></div><div class=\"sk-parallel\"><div class=\"sk-parallel-item\"><div class=\"sk-item\"><div class=\"sk-label-container\"><div class=\"sk-label sk-toggleable\"><input class=\"sk-toggleable__control sk-hidden--visually\" id=\"sk-estimator-id-4\" type=\"checkbox\" ><label for=\"sk-estimator-id-4\" class=\"sk-toggleable__label sk-toggleable__label-arrow\">estimator: RandomForestRegressor</label><div class=\"sk-toggleable__content\"><pre>RandomForestRegressor()</pre></div></div></div><div class=\"sk-serial\"><div class=\"sk-item\"><div class=\"sk-estimator sk-toggleable\"><input class=\"sk-toggleable__control sk-hidden--visually\" id=\"sk-estimator-id-5\" type=\"checkbox\" ><label for=\"sk-estimator-id-5\" class=\"sk-toggleable__label sk-toggleable__label-arrow\">RandomForestRegressor</label><div class=\"sk-toggleable__content\"><pre>RandomForestRegressor()</pre></div></div></div></div></div></div></div></div></div></div>"
      ],
      "text/plain": [
       "RandomizedSearchCV(cv=KFold(n_splits=5, random_state=None, shuffle=False),\n",
       "                   estimator=RandomForestRegressor(), n_iter=30,\n",
       "                   param_distributions={'max_depth': [2, 3, 4],\n",
       "                                        'n_estimators': [100, 110, 120],\n",
       "                                        'random_state': [10, 15, 12]},\n",
       "                   verbose=2)"
      ]
     },
     "execution_count": 55,
     "metadata": {},
     "output_type": "execute_result"
    }
   ],
   "source": [
    "random.fit(x,y)"
   ]
  },
  {
   "cell_type": "code",
   "execution_count": 56,
   "id": "0e0666d1-a812-4f04-8e41-2d4759258c58",
   "metadata": {},
   "outputs": [
    {
     "data": {
      "text/plain": [
       "{'random_state': 15, 'n_estimators': 100, 'max_depth': 4}"
      ]
     },
     "execution_count": 56,
     "metadata": {},
     "output_type": "execute_result"
    }
   ],
   "source": [
    "random.best_params_"
   ]
  },
  {
   "cell_type": "code",
   "execution_count": 57,
   "id": "fd05031f-d477-40f9-9a39-580f3abaa7fb",
   "metadata": {},
   "outputs": [],
   "source": [
    "model=RandomForestRegressor(random_state=15,n_estimators=100,max_depth=4)"
   ]
  },
  {
   "cell_type": "code",
   "execution_count": 58,
   "id": "160616ae-5403-4aee-9daa-f876a14901b8",
   "metadata": {},
   "outputs": [
    {
     "data": {
      "text/html": [
       "<style>#sk-container-id-4 {color: black;background-color: white;}#sk-container-id-4 pre{padding: 0;}#sk-container-id-4 div.sk-toggleable {background-color: white;}#sk-container-id-4 label.sk-toggleable__label {cursor: pointer;display: block;width: 100%;margin-bottom: 0;padding: 0.3em;box-sizing: border-box;text-align: center;}#sk-container-id-4 label.sk-toggleable__label-arrow:before {content: \"▸\";float: left;margin-right: 0.25em;color: #696969;}#sk-container-id-4 label.sk-toggleable__label-arrow:hover:before {color: black;}#sk-container-id-4 div.sk-estimator:hover label.sk-toggleable__label-arrow:before {color: black;}#sk-container-id-4 div.sk-toggleable__content {max-height: 0;max-width: 0;overflow: hidden;text-align: left;background-color: #f0f8ff;}#sk-container-id-4 div.sk-toggleable__content pre {margin: 0.2em;color: black;border-radius: 0.25em;background-color: #f0f8ff;}#sk-container-id-4 input.sk-toggleable__control:checked~div.sk-toggleable__content {max-height: 200px;max-width: 100%;overflow: auto;}#sk-container-id-4 input.sk-toggleable__control:checked~label.sk-toggleable__label-arrow:before {content: \"▾\";}#sk-container-id-4 div.sk-estimator input.sk-toggleable__control:checked~label.sk-toggleable__label {background-color: #d4ebff;}#sk-container-id-4 div.sk-label input.sk-toggleable__control:checked~label.sk-toggleable__label {background-color: #d4ebff;}#sk-container-id-4 input.sk-hidden--visually {border: 0;clip: rect(1px 1px 1px 1px);clip: rect(1px, 1px, 1px, 1px);height: 1px;margin: -1px;overflow: hidden;padding: 0;position: absolute;width: 1px;}#sk-container-id-4 div.sk-estimator {font-family: monospace;background-color: #f0f8ff;border: 1px dotted black;border-radius: 0.25em;box-sizing: border-box;margin-bottom: 0.5em;}#sk-container-id-4 div.sk-estimator:hover {background-color: #d4ebff;}#sk-container-id-4 div.sk-parallel-item::after {content: \"\";width: 100%;border-bottom: 1px solid gray;flex-grow: 1;}#sk-container-id-4 div.sk-label:hover label.sk-toggleable__label {background-color: #d4ebff;}#sk-container-id-4 div.sk-serial::before {content: \"\";position: absolute;border-left: 1px solid gray;box-sizing: border-box;top: 0;bottom: 0;left: 50%;z-index: 0;}#sk-container-id-4 div.sk-serial {display: flex;flex-direction: column;align-items: center;background-color: white;padding-right: 0.2em;padding-left: 0.2em;position: relative;}#sk-container-id-4 div.sk-item {position: relative;z-index: 1;}#sk-container-id-4 div.sk-parallel {display: flex;align-items: stretch;justify-content: center;background-color: white;position: relative;}#sk-container-id-4 div.sk-item::before, #sk-container-id-4 div.sk-parallel-item::before {content: \"\";position: absolute;border-left: 1px solid gray;box-sizing: border-box;top: 0;bottom: 0;left: 50%;z-index: -1;}#sk-container-id-4 div.sk-parallel-item {display: flex;flex-direction: column;z-index: 1;position: relative;background-color: white;}#sk-container-id-4 div.sk-parallel-item:first-child::after {align-self: flex-end;width: 50%;}#sk-container-id-4 div.sk-parallel-item:last-child::after {align-self: flex-start;width: 50%;}#sk-container-id-4 div.sk-parallel-item:only-child::after {width: 0;}#sk-container-id-4 div.sk-dashed-wrapped {border: 1px dashed gray;margin: 0 0.4em 0.5em 0.4em;box-sizing: border-box;padding-bottom: 0.4em;background-color: white;}#sk-container-id-4 div.sk-label label {font-family: monospace;font-weight: bold;display: inline-block;line-height: 1.2em;}#sk-container-id-4 div.sk-label-container {text-align: center;}#sk-container-id-4 div.sk-container {/* jupyter's `normalize.less` sets `[hidden] { display: none; }` but bootstrap.min.css set `[hidden] { display: none !important; }` so we also need the `!important` here to be able to override the default hidden behavior on the sphinx rendered scikit-learn.org. See: https://github.com/scikit-learn/scikit-learn/issues/21755 */display: inline-block !important;position: relative;}#sk-container-id-4 div.sk-text-repr-fallback {display: none;}</style><div id=\"sk-container-id-4\" class=\"sk-top-container\"><div class=\"sk-text-repr-fallback\"><pre>RandomForestRegressor(max_depth=4, random_state=15)</pre><b>In a Jupyter environment, please rerun this cell to show the HTML representation or trust the notebook. <br />On GitHub, the HTML representation is unable to render, please try loading this page with nbviewer.org.</b></div><div class=\"sk-container\" hidden><div class=\"sk-item\"><div class=\"sk-estimator sk-toggleable\"><input class=\"sk-toggleable__control sk-hidden--visually\" id=\"sk-estimator-id-6\" type=\"checkbox\" checked><label for=\"sk-estimator-id-6\" class=\"sk-toggleable__label sk-toggleable__label-arrow\">RandomForestRegressor</label><div class=\"sk-toggleable__content\"><pre>RandomForestRegressor(max_depth=4, random_state=15)</pre></div></div></div></div></div>"
      ],
      "text/plain": [
       "RandomForestRegressor(max_depth=4, random_state=15)"
      ]
     },
     "execution_count": 58,
     "metadata": {},
     "output_type": "execute_result"
    }
   ],
   "source": [
    "model.fit(x,y)"
   ]
  },
  {
   "cell_type": "code",
   "execution_count": 59,
   "id": "2c9b2ae8-bd89-44a8-a002-46ff736817cf",
   "metadata": {},
   "outputs": [
    {
     "data": {
      "text/plain": [
       "0.6454640417033554"
      ]
     },
     "execution_count": 59,
     "metadata": {},
     "output_type": "execute_result"
    }
   ],
   "source": [
    "model.score(x,y)"
   ]
  },
  {
   "cell_type": "code",
   "execution_count": 60,
   "id": "17d4dfd1-1d30-4940-bda7-87cd4fcd5d28",
   "metadata": {},
   "outputs": [
    {
     "data": {
      "text/plain": [
       "Airline        0.114447\n",
       "Source         0.000540\n",
       "Destination    0.052149\n",
       "Total_Stops    0.063774\n",
       "j_date         0.093777\n",
       "j_mon          0.019120\n",
       "d_hr           0.000416\n",
       "d_min          0.000801\n",
       "a_hr           0.000288\n",
       "a_min          0.000199\n",
       "dur_h          0.653789\n",
       "dur_min        0.000701\n",
       "dtype: float64"
      ]
     },
     "execution_count": 60,
     "metadata": {},
     "output_type": "execute_result"
    }
   ],
   "source": [
    "pd.Series(model.feature_importances_,index=x.columns)"
   ]
  },
  {
   "cell_type": "code",
   "execution_count": 61,
   "id": "11f533d1-18e8-4d6b-bf58-daece1bbd447",
   "metadata": {},
   "outputs": [
    {
     "data": {
      "text/plain": [
       "<Figure size 1000x1000 with 0 Axes>"
      ]
     },
     "execution_count": 61,
     "metadata": {},
     "output_type": "execute_result"
    },
    {
     "data": {
      "text/plain": [
       "<Figure size 1000x1000 with 0 Axes>"
      ]
     },
     "metadata": {},
     "output_type": "display_data"
    }
   ],
   "source": [
    "plt.figure(figsize=(10,10))"
   ]
  },
  {
   "cell_type": "code",
   "execution_count": 62,
   "id": "44a4ddf2-9a88-45b9-b16a-6622f4f38708",
   "metadata": {},
   "outputs": [
    {
     "data": {
      "image/png": "[encoded data removed]",
      "text/plain": [
       "<Figure size 640x480 with 2 Axes>"
      ]
     },
     "metadata": {},
     "output_type": "display_data"
    }
   ],
   "source": [
    "sns.heatmap(data.corr(),annot=True);"
   ]
  },
  {
   "cell_type": "code",
   "execution_count": 63,
   "id": "8aaeb4e3-7d1e-4951-88bc-2d5bfa4cd3f7",
   "metadata": {},
   "outputs": [
    {
     "data": {
      "image/png": "[encoded data removed]",
      "text/plain": [
       "<Figure size 640x480 with 1 Axes>"
      ]
     },
     "metadata": {},
     "output_type": "display_data"
    }
   ],
   "source": [
    "pd.Series(model.feature_importances_,index=x.columns).nlargest(10).plot(kind='bar');"
   ]
  },
  {
   "cell_type": "code",
   "execution_count": 75,
   "id": "909d0af9-1540-40bc-af4a-787158f792dd",
   "metadata": {},
   "outputs": [],
   "source": [
    "from sklearn.metrics import mean_absolute_error,mean_squared_error,r2_score\n"
   ]
  },
  {
   "cell_type": "code",
   "execution_count": 68,
   "id": "33903496-2e45-4322-8e1e-ba2b3f7dd13c",
   "metadata": {},
   "outputs": [
    {
     "data": {
      "text/plain": [
       "1881.7662504376"
      ]
     },
     "execution_count": 68,
     "metadata": {},
     "output_type": "execute_result"
    }
   ],
   "source": [
    "mean_absolute_error(y_train,model.predict(x_train))"
   ]
  },
  {
   "cell_type": "code",
   "execution_count": 73,
   "id": "f2b0cb0c-4577-459c-ba96-3888f10dbc3d",
   "metadata": {},
   "outputs": [
    {
     "data": {
      "text/plain": [
       "3681344.9847513237"
      ]
     },
     "execution_count": 73,
     "metadata": {},
     "output_type": "execute_result"
    }
   ],
   "source": [
    "(mean_squared_error(y_train,model.predict(x_train)))*(1/2)"
   ]
  },
  {
   "cell_type": "code",
   "execution_count": 76,
   "id": "6ebf3f68-4c72-4970-bd7f-6733333f174c",
   "metadata": {},
   "outputs": [
    {
     "data": {
      "text/plain": [
       "0.6493059659542488"
      ]
     },
     "execution_count": 76,
     "metadata": {},
     "output_type": "execute_result"
    }
   ],
   "source": [
    "r2_score(y_train,model.predict(x_train))"
   ]
  }
 ],
 "metadata": {
  "kernelspec": {
   "display_name": "Python 3 (ipykernel)",
   "language": "python",
   "name": "python3"
  },
  "language_info": {
   "codemirror_mode": {
    "name": "ipython",
    "version": 3
   },
   "file_extension": ".py",
   "mimetype": "text/x-python",
   "name": "python",
   "nbconvert_exporter": "python",
   "pygments_lexer": "ipython3",
   "version": "3.11.7"
  }
 },
 "nbformat": 4,
 "nbformat_minor": 5
}
